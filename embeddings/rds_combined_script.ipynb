{
 "cells": [
  {
   "cell_type": "markdown",
   "id": "084fd288-ed7b-46cf-af16-e43b3afb9ea5",
   "metadata": {},
   "source": [
    "# Create PGVector tables from documents\n",
    "- Converts the document extracts from the document preprocessing pipeline into embeddings,\n",
    "  and places them into a RDS DB with PGVector\n",
    "- The embedding process will be very slow on a CPU instance and may crash. It is recommended\n",
    "  to use a GPU instance like ml.g4dn.xlarge\n",
    "  \n",
    "## Recommended setup\n",
    "- *Necessary*: Use Data Science 2.0 kernel, or any kernel with conda and python >= 3.8\n",
    "- When computing embeddings: Instance with at least 1 gpu, eg. ml.g4dn.xlarge\n",
    "- When using precomputed embeddings, ml.t3.medium is sufficient\n",
    "- If not using GPU, set the gpu_available variable in the first cell to False"
   ]
  },
  {
   "cell_type": "markdown",
   "id": "bef32446-c6f9-4c05-b509-2e1ec3a6e47c",
   "metadata": {
    "tags": []
   },
   "source": [
    "### Options"
   ]
  },
  {
   "cell_type": "code",
   "execution_count": null,
   "id": "53595576-1df5-41b7-bea7-0db945af60b2",
   "metadata": {},
   "outputs": [],
   "source": [
    "# Set compute_embeddings to true if you need to recompute the embeddings\n",
    "# Otherwise, downloads precomputed embeddings from s3\n",
    "compute_embeddings = False \n",
    "# Set clear_index to true to clear any existing table before inserting documents\n",
    "clear_index = True\n",
    "# Set gpu_available to true when using a gpu instance, especially when computing embeddings\n",
    "gpu_available = False"
   ]
  },
  {
   "cell_type": "markdown",
   "id": "9c6f5ef2-73d0-470e-8464-c5b4b37eb71a",
   "metadata": {
    "tags": []
   },
   "source": [
    "## Install prerequisites"
   ]
  },
  {
   "cell_type": "code",
   "execution_count": null,
   "id": "6c882afe-2247-46bc-8c68-b45a1a49b3f6",
   "metadata": {},
   "outputs": [],
   "source": [
    "%%capture\n",
    "if not gpu_available:\n",
    "    !pip install torch --index-url https://download.pytorch.org/whl/cpu\n",
    "!pip install -r requirements.txt"
   ]
  },
  {
   "cell_type": "markdown",
   "id": "edd21b79-b899-4543-a191-e8d22215118b",
   "metadata": {},
   "source": [
    "## Call Script"
   ]
  },
  {
   "cell_type": "code",
   "execution_count": null,
   "id": "9fb70a05-1748-4319-951a-f62d099770ea",
   "metadata": {},
   "outputs": [],
   "source": [
    "args = []\n",
    "args.append('--compute_embeddings' if compute_embeddings else '--no-compute_embeddings')\n",
    "args.append('--clear_index' if clear_index else '--no-clear_index')\n",
    "args.append('--gpu_available' if gpu_available else '--no-gpu_available')"
   ]
  },
  {
   "cell_type": "code",
   "execution_count": null,
   "id": "fc92a8fd-77fd-41a6-838c-1388d0fef6df",
   "metadata": {},
   "outputs": [],
   "source": [
    "!python rds_combined_script.py {' '.join(args)}"
   ]
  }
 ],
 "metadata": {
  "language_info": {
   "name": "python"
  },
  "orig_nbformat": 4
 },
 "nbformat": 4,
 "nbformat_minor": 2
}
