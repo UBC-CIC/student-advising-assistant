{
 "cells": [
  {
   "cell_type": "code",
   "execution_count": 2,
   "id": "193e4850-2e3f-4c75-8cbd-1bea484d41c6",
   "metadata": {
    "tags": []
   },
   "outputs": [
    {
     "name": "stdout",
     "output_type": "stream",
     "text": [
      "Installed and imported dependencies!\n"
     ]
    }
   ],
   "source": [
    "!pip install --quiet -U langchain langchain-community langchain_postgres langchain-aws langchain_core\n",
    "\n",
    "import boto3\n",
    "import langchain\n",
    "# import psycopg2\n",
    "import sqlalchemy\n",
    "from sqlalchemy import Column, Integer, Text, create_engine\n",
    "from langchain.embeddings import BedrockEmbeddings\n",
    "from langchain.document_loaders import CSVLoader\n",
    "from langchain.text_splitter import RecursiveCharacterTextSplitter\n",
    "from langchain.chains import RetrievalQA\n",
    "from langchain.callbacks import StdOutCallbackHandler\n",
    "from langchain_aws import BedrockLLM\n",
    "# from langchain_community.vectorstores.pgvector import PGVector, DistanceStrategy\n",
    "from langchain_postgres.vectorstores import PGVector\n",
    "import pandas\n",
    "from io import StringIO\n",
    "from sqlalchemy import create_engine, text\n",
    "from langchain_core.prompts import PromptTemplate\n",
    "import re\n",
    "import time\n",
    "import math\n",
    "\n",
    "# meta.llama3-8b-instruct-v1:0, meta.llama3-70b-instruct-v1:0\n",
    "# mistral.mistral-7b-instruct-v0:2, mistral.mistral-large-2402-v1:0\n",
    "LLAMA_3_8B = \"meta.llama3-8b-instruct-v1:0\"\n",
    "LLAMA_3_70B = \"meta.llama3-70b-instruct-v1:0\"\n",
    "MISTRAL_7B = \"mistral.mistral-7b-instruct-v0:2\"\n",
    "MISTRAL_LARGE = \"mistral.mistral-large-2402-v1:0\"\n",
    "\n",
    "print(\"Installed and imported dependencies!\")"
   ]
  },
  {
   "cell_type": "code",
   "execution_count": 3,
   "id": "00d1e9e1-7506-4404-bb2d-88c9e7a8127b",
   "metadata": {
    "tags": []
   },
   "outputs": [
    {
     "name": "stdout",
     "output_type": "stream",
     "text": [
      "Data loaded from S3:\n",
      "   Unnamed: 0  doc_id                                                url  \\\n",
      "0           0       0                  https://vancouver.calendar.ubc.ca   \n",
      "1           1       1  https://vancouver.calendar.ubc.ca/dates-and-de...   \n",
      "2           2       2  https://vancouver.calendar.ubc.ca/dates-and-de...   \n",
      "3           3       3  https://vancouver.calendar.ubc.ca/dates-and-de...   \n",
      "4           4       4  https://vancouver.calendar.ubc.ca/dates-and-de...   \n",
      "\n",
      "   parent                                             titles  \\\n",
      "0     NaN                                                 []   \n",
      "1     0.0                            ['Dates and Deadlines']   \n",
      "2     1.0              ['Dates and Deadlines', 'Term Dates']   \n",
      "3     2.0  ['Dates and Deadlines', 'Term Dates', 'Term Da...   \n",
      "4     2.0  ['Dates and Deadlines', 'Term Dates', 'Term Da...   \n",
      "\n",
      "             parent_titles                                               text  \\\n",
      "0                       []                                                NaN   \n",
      "1  ['Dates and Deadlines']  \\n\\n \\n\\nNote that graduate and professional p...   \n",
      "2  ['Dates and Deadlines']                                            \\n\\n \\n   \n",
      "3  ['Dates and Deadlines']  \\n\\n \\n\\n  - Start\\n\\n    - Term 1(May – June,...   \n",
      "4  ['Dates and Deadlines']  \\n\\n \\n\\n  - Start\\n\\n    - Term 1(September –...   \n",
      "\n",
      "  links                                            context  split_idx  \\\n",
      "0    {}                                                NaN        NaN   \n",
      "1    {}                                                NaN        0.0   \n",
      "2    {}  \\n\\n \\n\\nNote that graduate and professional p...        0.0   \n",
      "3    {}                                                NaN        0.0   \n",
      "4    {}                                                NaN        0.0   \n",
      "\n",
      "                                            orig_doc  last_modified program  \\\n",
      "0                                                NaN            NaN     NaN   \n",
      "1  /usr/src/app/document_scraping/site_dumps/vanc...   1.718393e+09     NaN   \n",
      "2  /usr/src/app/document_scraping/site_dumps/vanc...   1.718393e+09     NaN   \n",
      "3  /usr/src/app/document_scraping/site_dumps/vanc...   1.718393e+09     NaN   \n",
      "4  /usr/src/app/document_scraping/site_dumps/vanc...   1.718393e+09     NaN   \n",
      "\n",
      "  faculty specialization  \n",
      "0     NaN            NaN  \n",
      "1     NaN            NaN  \n",
      "2     NaN            NaN  \n",
      "3     NaN            NaN  \n",
      "4     NaN            NaN  \n",
      "Data loaded from server:\n",
      "   Unnamed: 0  doc_id                                                url  \\\n",
      "0           0       0                  https://vancouver.calendar.ubc.ca   \n",
      "1           1       1  https://vancouver.calendar.ubc.ca/dates-and-de...   \n",
      "2           2       2  https://vancouver.calendar.ubc.ca/dates-and-de...   \n",
      "3           3       3  https://vancouver.calendar.ubc.ca/dates-and-de...   \n",
      "4           4       4  https://vancouver.calendar.ubc.ca/dates-and-de...   \n",
      "\n",
      "   parent                                             titles  \\\n",
      "0     NaN                                                 []   \n",
      "1     0.0                            ['Dates and Deadlines']   \n",
      "2     1.0              ['Dates and Deadlines', 'Term Dates']   \n",
      "3     2.0  ['Dates and Deadlines', 'Term Dates', 'Term Da...   \n",
      "4     2.0  ['Dates and Deadlines', 'Term Dates', 'Term Da...   \n",
      "\n",
      "             parent_titles                                               text  \\\n",
      "0                       []                                                NaN   \n",
      "1  ['Dates and Deadlines']  \\n\\n \\n\\nNote that graduate and professional p...   \n",
      "2  ['Dates and Deadlines']                                            \\n\\n \\n   \n",
      "3  ['Dates and Deadlines']  \\n\\n \\n\\n  - Start\\n\\n    - Term 1(May – June,...   \n",
      "4  ['Dates and Deadlines']  \\n\\n \\n\\n  - Start\\n\\n    - Term 1(September –...   \n",
      "\n",
      "  links                                            context  split_idx  \\\n",
      "0    {}                                                NaN        NaN   \n",
      "1    {}                                                NaN        0.0   \n",
      "2    {}  \\n\\n \\n\\nNote that graduate and professional p...        0.0   \n",
      "3    {}                                                NaN        0.0   \n",
      "4    {}                                                NaN        0.0   \n",
      "\n",
      "                                            orig_doc  last_modified program  \\\n",
      "0                                                NaN            NaN     NaN   \n",
      "1  /usr/src/app/document_scraping/site_dumps/vanc...   1.718393e+09     NaN   \n",
      "2  /usr/src/app/document_scraping/site_dumps/vanc...   1.718393e+09     NaN   \n",
      "3  /usr/src/app/document_scraping/site_dumps/vanc...   1.718393e+09     NaN   \n",
      "4  /usr/src/app/document_scraping/site_dumps/vanc...   1.718393e+09     NaN   \n",
      "\n",
      "  faculty specialization  \n",
      "0     NaN            NaN  \n",
      "1     NaN            NaN  \n",
      "2     NaN            NaN  \n",
      "3     NaN            NaN  \n",
      "4     NaN            NaN  \n",
      "The CSV files are identical. Skipping update and embedding process.\n"
     ]
    }
   ],
   "source": [
    "# Get CSV from S3 Bucket\n",
    "def get_csv_from_bucket(bucket_name, file_path):\n",
    "\n",
    "    # Create a boto3 client\n",
    "    s3_client = boto3.client('s3')\n",
    "\n",
    "    # Fetch the CSV file from S3\n",
    "    csv_file = s3_client.get_object(Bucket=bucket_name, Key=file_path)\n",
    "    csv_content = csv_file['Body'].read().decode('utf-8')\n",
    "\n",
    "    # Load the CSV content into a pandas DataFrame\n",
    "    df = pandas.read_csv(StringIO(csv_content))\n",
    "\n",
    "    # Display the DataFrame\n",
    "    df.head()\n",
    "    \n",
    "    return df\n",
    "\n",
    "# Update CSV file on server\n",
    "def update_csv_server_side(df, server_file_path):\n",
    "    df.to_csv(server_file_path, index=False)\n",
    "\n",
    "# Check if CSV from bucket is the same as CSV on server\n",
    "def check_same_csv(df1, df2):\n",
    "    return df1.equals(df2)\n",
    "\n",
    "bucket_name = 'bucket-name'\n",
    "file_path = 'file-path-of-CSV-file'\n",
    "server_file_path = 'whatever-you-want-to-call-and-store-the-CSV-to'\n",
    "update_embeddings = False\n",
    "\n",
    "# Load the CSV file from S3\n",
    "new_data = get_csv_from_bucket(bucket_name, file_path)\n",
    "print(\"Data loaded from S3:\")\n",
    "print(new_data.head())\n",
    "\n",
    "# Load the existing CSV file from the server\n",
    "try:\n",
    "    existing_data = pandas.read_csv(server_file_path)\n",
    "    print(\"Data loaded from server:\")\n",
    "    print(existing_data.head())\n",
    "except FileNotFoundError:\n",
    "    print(\"No existing CSV file on the server. It will be created.\")\n",
    "    existing_data = None\n",
    "\n",
    "# Check if the new CSV file matches the existing one\n",
    "if existing_data is not None and check_same_csv(new_data, existing_data):\n",
    "    print(\"The CSV files are identical. Skipping update and embedding process.\")\n",
    "else:\n",
    "    print(\"The CSV files are different. Updating the server file.\")\n",
    "    update_csv_server_side(new_data, server_file_path)\n",
    "    update_embeddings = True"
   ]
  },
  {
   "cell_type": "code",
   "execution_count": null,
   "id": "4a57639e-9a1a-4bd4-bc8d-be3ac02b07f1",
   "metadata": {
    "tags": []
   },
   "outputs": [],
   "source": [
    "# Define the collection name for storing embeddings\n",
    "COLLECTION_NAME = \"rag_test\"\n",
    "\n",
    "CONNECTION_STRING = (\n",
    "    \"your-database-parameters\"\n",
    ")\n",
    "\n",
    "print(\"Connection string:\", CONNECTION_STRING)"
   ]
  },
  {
   "cell_type": "code",
   "execution_count": 5,
   "id": "44f9b8cf-90d7-4662-8e8c-ced56496b32f",
   "metadata": {
    "tags": []
   },
   "outputs": [
    {
     "name": "stdout",
     "output_type": "stream",
     "text": [
      "No update to CSV. No need to update embeddings.\n",
      "Altered embeddings column in langchain_pg_embedding table\n",
      "The table 'langchain_pg_embedding' exists and contains 15933 rows.\n",
      "Index created successfully\n",
      "The table 'langchain_pg_collection' exists and contains 1 rows.\n",
      "The table 'langchain_pg_embedding' exists and contains 15933 rows.\n",
      "Database initialized and populated.\n"
     ]
    }
   ],
   "source": [
    "# Initialize the text embedding model\n",
    "embeddings = BedrockEmbeddings()\n",
    "\n",
    "# Initialize the PGVector instance\n",
    "db = PGVector(\n",
    "    connection=CONNECTION_STRING,\n",
    "    collection_name=COLLECTION_NAME,\n",
    "    embeddings=embeddings\n",
    ")\n",
    "\n",
    "# Initialize the engine\n",
    "engine = create_engine(CONNECTION_STRING)\n",
    "\n",
    "# Create PGVector extension\n",
    "with engine.connect() as connection:\n",
    "    connection.execute(text(\"CREATE EXTENSION IF NOT EXISTS vector;\"))\n",
    "\n",
    "# Function to clear the table data\n",
    "def clear_table_data(table_name):\n",
    "    clear_table_query = f\"DROP TABLE {table_name} CASCADE;\"\n",
    "\n",
    "    try:\n",
    "        with engine.connect() as connection:\n",
    "            connection.execute(text(clear_table_query))\n",
    "            connection.commit()\n",
    "            print(f\"Cleared data from table '{table_name}'.\")\n",
    "\n",
    "            # Need to initialize PGVector instance again to create collection and embeddings table\n",
    "            db = PGVector(\n",
    "                connection=CONNECTION_STRING,\n",
    "                collection_name=COLLECTION_NAME,\n",
    "                embeddings=embeddings\n",
    "            )\n",
    "    except:\n",
    "        print(f\"Error deleting data from table '{table_name}'.\")\n",
    "\n",
    "# Function to insert embeddings in batches\n",
    "def insert_embeddings_in_batches(db, documents, batch_size=500):\n",
    "    for i in range(0, len(documents), batch_size):\n",
    "        batch_documents = documents[i:i+batch_size]\n",
    "        db.add_documents(\n",
    "            documents=batch_documents\n",
    "        )\n",
    "        print(f\"Inserted batch {i//batch_size + 1} of {len(documents)//batch_size + 1}\")\n",
    "\n",
    "# Function to check if a table exists and count the number of rows\n",
    "def check_table_and_count_rows(table_name):\n",
    "\n",
    "    # SQL query to check if the table exists\n",
    "    table_exists_query = f\"\"\"\n",
    "    SELECT EXISTS (\n",
    "        SELECT FROM information_schema.tables \n",
    "        WHERE table_name = '{table_name}'\n",
    "    );\n",
    "    \"\"\"\n",
    "\n",
    "    # SQL query to count the number of rows in the table\n",
    "    row_count_query = f\"SELECT COUNT(*) FROM {table_name};\"\n",
    "    \n",
    "    with engine.connect() as connection:\n",
    "        # Check if the table exists\n",
    "        table_exists_result = connection.execute(text(table_exists_query))\n",
    "        table_exists = table_exists_result.scalar()\n",
    "\n",
    "        if table_exists:\n",
    "            # Count the number of rows if the table exists\n",
    "            row_count_result = connection.execute(text(row_count_query))\n",
    "            row_count = row_count_result.scalar()\n",
    "            print(f\"The table '{table_name}' exists and contains {row_count} rows.\")\n",
    "            return row_count\n",
    "        else:\n",
    "            print(f\"The table '{table_name}' does not exist.\")\n",
    "            return False\n",
    "\n",
    "# Check if CSV file was updated\n",
    "if update_embeddings:\n",
    "\n",
    "    print(\"CSV changed. Need to update CSV.\")\n",
    "    # Set update_embeddings flag to False to not update on next run\n",
    "    update_embeddings = False\n",
    "    \n",
    "    # If embeddings already exist, tables need to be cleared\n",
    "    if check_table_and_count_rows('langchain_pg_collection') and check_table_and_count_rows('langchain_pg_embedding'):\n",
    "        print(\"Embeddings already exist and need to be cleared\")\n",
    "        # Clear existing table data\n",
    "        clear_table_data('langchain_pg_embedding')\n",
    "        clear_table_data('langchain_pg_collection')\n",
    "\n",
    "        # Check data in tables after deletion of previous data\n",
    "        check_table_and_count_rows('langchain_pg_collection')\n",
    "        check_table_and_count_rows('langchain_pg_embedding')\n",
    "\n",
    "    # Create a CSV loader and load the data\n",
    "    loader = CSVLoader(file_path=server_file_path)\n",
    "\n",
    "    # Initialize a text splitter for dividing text into chunks\n",
    "    text_splitter = RecursiveCharacterTextSplitter(chunk_size=2000, chunk_overlap=100)\n",
    "\n",
    "    # Load and split the document\n",
    "    data = loader.load_and_split(text_splitter=text_splitter)\n",
    "\n",
    "    # Insert embeddings in batches\n",
    "    print(\"Inserting new embeddings in batches.\")\n",
    "    insert_embeddings_in_batches(db, data)\n",
    "else:\n",
    "    print(\"No update to CSV. No need to update embeddings.\")\n",
    "    \n",
    "\n",
    "# langchain_pg_embedding table has embedding column with type USER-DEFINED, need to change this to VECTOR type with dimensions\n",
    "try:\n",
    "    with engine.connect() as connection:\n",
    "        alter_table_query_1 = \"\"\"\n",
    "        ALTER TABLE langchain_pg_embedding\n",
    "        ADD COLUMN embedding_vector VECTOR(1536);\n",
    "\n",
    "        UPDATE langchain_pg_embedding\n",
    "        SET embedding_vector = embedding;\n",
    "\n",
    "        ALTER TABLE langchain_pg_embedding\n",
    "        DROP COLUMN embedding;\n",
    "\n",
    "        ALTER TABLE langchain_pg_embedding\n",
    "        RENAME COLUMN embedding_vector TO embedding;\n",
    "        \"\"\"\n",
    "        connection.execute(text(alter_table_query_1))\n",
    "        connection.commit()\n",
    "        print(\"Altered embeddings column in langchain_pg_embedding table\")\n",
    "except:\n",
    "    print(\"Error altering embeddings column\")\n",
    "\n",
    "# Calculate the index parameters according to best practices\n",
    "num_records = check_table_and_count_rows('langchain_pg_embedding')\n",
    "num_lists = num_records / 1000\n",
    "if num_lists < 10:\n",
    "    num_lists = 10\n",
    "if num_records > 1000000:\n",
    "    num_lists = math.sqrt(num_records)\n",
    "\n",
    "# Create index on embeddings table\n",
    "try:\n",
    "    with engine.connect() as connection:\n",
    "        # create_index_query = f\"\"\"\n",
    "        # CREATE INDEX ON langchain_pg_embedding USING ivfflat (embedding vector_l2_ops) WITH (lists = {num_lists});\n",
    "        # \"\"\"\n",
    "        create_index_query = f\"\"\"\n",
    "        CREATE INDEX ON langchain_pg_embedding USING hnsw (embedding vector_l2_ops);\n",
    "        \"\"\"\n",
    "        connection.execute(text(create_index_query))\n",
    "        connection.commit()\n",
    "        print(\"Index created successfully\")\n",
    "except:\n",
    "    # Close connection to RDS if error\n",
    "    engine.dispose()\n",
    "\n",
    "# Check data in tables\n",
    "check_table_and_count_rows('langchain_pg_collection')\n",
    "check_table_and_count_rows('langchain_pg_embedding')\n",
    "\n",
    "# Close connection to RDS\n",
    "engine.dispose()\n",
    "\n",
    "print(\"Database initialized and populated.\")"
   ]
  },
  {
   "cell_type": "code",
   "execution_count": 6,
   "id": "c077f14b-a730-4630-8841-cf7834c47da6",
   "metadata": {
    "tags": []
   },
   "outputs": [
    {
     "name": "stdout",
     "output_type": "stream",
     "text": [
      "Indexes on table 'langchain_pg_embedding':\n",
      "- langchain_pg_embedding_pkey1\n",
      "- ix_cmetadata_gin\n",
      "- ix_langchain_pg_embedding_id\n",
      "- langchain_pg_embedding_embedding_idx\n"
     ]
    },
    {
     "data": {
      "text/plain": [
       "[('langchain_pg_embedding_pkey1',),\n",
       " ('ix_cmetadata_gin',),\n",
       " ('ix_langchain_pg_embedding_id',),\n",
       " ('langchain_pg_embedding_embedding_idx',)]"
      ]
     },
     "execution_count": 6,
     "metadata": {},
     "output_type": "execute_result"
    }
   ],
   "source": [
    "# Function to list all indexes for a table\n",
    "def list_indexes_for_table(table_name):\n",
    "    list_indexes_query = f\"\"\"\n",
    "    SELECT indexname\n",
    "    FROM pg_indexes\n",
    "    WHERE tablename = '{table_name}';\n",
    "    \"\"\"\n",
    "    \n",
    "    with engine.connect() as connection:\n",
    "        result = connection.execute(text(list_indexes_query))\n",
    "        indexes = result.fetchall()\n",
    "        if indexes:\n",
    "            print(f\"Indexes on table '{table_name}':\")\n",
    "            for index in indexes:\n",
    "                print(f\"- {index[0]}\")\n",
    "        else:\n",
    "            print(f\"No indexes found on table '{table_name}'.\")\n",
    "        return indexes\n",
    "\n",
    "# List all indexes for 'langchain_pg_embedding' table\n",
    "list_indexes_for_table('langchain_pg_embedding')"
   ]
  },
  {
   "cell_type": "code",
   "execution_count": 7,
   "id": "d863c3ef-32f1-420b-a664-bae5956640cb",
   "metadata": {
    "tags": []
   },
   "outputs": [
    {
     "name": "stdout",
     "output_type": "stream",
     "text": [
      "Details of index 'langchain_pg_embedding_embedding_idx':\n",
      "Index Name: langchain_pg_embedding_embedding_idx\n",
      "Index Definition: CREATE INDEX langchain_pg_embedding_embedding_idx ON public.langchain_pg_embedding USING hnsw (embedding vector_l2_ops)\n"
     ]
    }
   ],
   "source": [
    "# Function to get details of an index\n",
    "def get_index_details(index_name):\n",
    "    index_details_query = f\"\"\"\n",
    "    SELECT indexname, indexdef\n",
    "    FROM pg_indexes\n",
    "    WHERE indexname = '{index_name}';\n",
    "    \"\"\"\n",
    "    \n",
    "    with engine.connect() as connection:\n",
    "        result = connection.execute(text(index_details_query))\n",
    "        index_details = result.fetchone()\n",
    "        if index_details:\n",
    "            print(f\"Details of index '{index_name}':\")\n",
    "            print(f\"Index Name: {index_details[0]}\")\n",
    "            print(f\"Index Definition: {index_details[1]}\")\n",
    "        else:\n",
    "            print(f\"No details found for index '{index_name}'.\")\n",
    "\n",
    "# Verify details of the created index\n",
    "get_index_details('langchain_pg_embedding_embedding_idx')"
   ]
  },
  {
   "cell_type": "code",
   "execution_count": 23,
   "id": "160dc1ae-7aa5-466e-bff5-aa58f9906259",
   "metadata": {
    "tags": []
   },
   "outputs": [
    {
     "name": "stdout",
     "output_type": "stream",
     "text": [
      "query: Does physics 100 count for the arts requirement? \n",
      "\n",
      "result: According to the UBC calendar, Physics 100 is a Science course, so it wouldn't count towards the Arts requirement. You can fulfill the Arts requirement by taking courses in the humanities, social sciences, and languages. If you have any more questions or need further clarification, feel free to ask! \n",
      "\n",
      "source_documents: [{'url': 'https://vancouver.calendar.ubc.ca/faculties-colleges-and-schools/faculty-arts/bachelor-arts/registration#22590', 'text': 'Students are strongly advised to consult the Arts Undergraduate website and to seek advising from the appropriate department or unit when selecting or modifying their course load.', 'doc_relate': ' No'}, {'url': 'https://science.ubc.ca/students/minors', 'text': 'Students should design a course of studies for their proposed Arts Minor, which must be approved by Science Advising by the end of Year 3.18-credit Minor in Arts  \\nStudents must submit an application to Science Advising for review.30-credit Minor in Arts  \\nStudents need approval from the appropriate department/program advisor in Arts (not the Arts Academic Advising Office) before submitting the application to Science Advising for review.Application Periods: April 1 to May 15 & August 1 to September 30', 'doc_relate': ' No, the document does not relate to the query. The query asks about whether Physics 100 counts for the Arts requirement, but the provided document only talks about Arts Minor and does not mention Physics 100 or Arts requirement.'}, {'url': 'https://vancouver.calendar.ubc.ca/faculties-colleges-and-schools/faculty-arts/bachelor-arts/academic-advising', 'text': 'Bachelor of Arts students seeking information about admission to or continuation in other degree programs in the Faculty of Arts should speak with Arts Academic Advising or the Departmental Advisor in the desired program. Students seeking such information for Faculties other than Arts should contact the respective Faculty directly for information. Students registered in another Faculty who wish to complete a specialization in Arts should consult their home Faculty’s undergraduate advising office and the Departmental Advisor in the desired program area, preferably prior to registration.', 'doc_relate': ' No'}, {'url': 'https://science.ubc.ca/students/faculty-requirements', 'text': 'At least 72 credits must be in Science courses. 12 credits of Arts courses are required, separate from any English courses taken for the Communication Requirement. Students can take courses in the humanities, social sciences, and languages to fulfill the Science and Arts Requirement.', 'doc_relate': ' No, the document does not directly answer the query. The document provides general information about the Science and Arts Requirement, but it does not specifically mention Physics 100 or any other physics course.'}] \n",
      "\n",
      "answer_time: 1.819861888885498 \n",
      "\n",
      "total_time: 5.810059309005737 \n",
      "\n"
     ]
    }
   ],
   "source": [
    "def check_if_document_relates(document, question, answer, llm):\n",
    "\n",
    "    # Set up the retrieval chain with the language model and database retriever\n",
    "    related_chain = RetrievalQA.from_chain_type(\n",
    "                                        llm=llm,\n",
    "                                        retriever=db.as_retriever()\n",
    "                                    )\n",
    "\n",
    "    # Initializing prompt to be passed to chain\n",
    "    prompt = f\"\"\"Here is a queston that a user asked you: {question} and here is your answer: {answer}.\n",
    "                Here is the text from the source document you returned: {document[\"text\"]}.\n",
    "                Can you determine if this text relates with the question and helped answer it? Please return a concise answer.\n",
    "                \"\"\"\n",
    "\n",
    "    if llm.model_id == LLAMA_3_8B:\n",
    "        prompt = (\n",
    "            \"<|begin_of_text|><|start_header_id|>system<|end_header_id|>\"\n",
    "            \"You are an AI tasked with determining the relevance of documents to specific queries. Provide only the relevance information and avoid any unrelated information or questions.<|eot_id|>\"\n",
    "            f\"<|start_header_id|>user<|end_header_id|>Query: {question}\\n\"\n",
    "            f\"Document: {document['text']}<|eot_id|>\"\n",
    "            \"<|start_header_id|>assistant<|end_header_id|>Does the document relate to the query? Provide a detailed explanation.<|eot_id|>\"\n",
    "        )\n",
    "    elif llm.model_id == LLAMA_3_70B:\n",
    "        prompt = (\n",
    "            \"<|startoftext|><|user|>\"\n",
    "            f\"Query: {question}\\n\"\n",
    "            f\"Document: {document['text']}\\n\"\n",
    "            \"<|assistant|>Does the document relate to the query? Provide only the relevance information and avoid any unrelated information or questions.<|endoftext|>\"\n",
    "        )\n",
    "    # elif llm.model_id == MISTRAL_7B:\n",
    "    #     prompt = (\n",
    "    #         f\"### Instruction: Does the document relate to the query? Answer with 'yes' or 'no.'\\n\"\n",
    "    #         f\"Query: {question}\\n\"\n",
    "    #         f\"Document: {document['text']}\\n\"\n",
    "    #         \"### Answer: \"\n",
    "    #     )\n",
    "\n",
    "    # Hold the result generated from the LLM\n",
    "    result = related_chain.invoke(prompt)\n",
    "\n",
    "    return result[\"result\"]\n",
    "\n",
    "def answer_prompt(question, llm):\n",
    "\n",
    "    # Record the start times\n",
    "    total_start_time = time.time()\n",
    "    answer_start_time = time.time()\n",
    "\n",
    "    llm = BedrockLLM(\n",
    "                    model_id=llm\n",
    "                )\n",
    "\n",
    "    # Set up the retrieval chain with the language model and database retriever\n",
    "    chain = RetrievalQA.from_chain_type(\n",
    "                                            llm=llm,\n",
    "                                            retriever=db.as_retriever(),\n",
    "                                            return_source_documents=True\n",
    "                                        )\n",
    "\n",
    "    # Initializing prompt to be passed to chain\n",
    "    prompt = question\n",
    "\n",
    "    if llm.model_id == LLAMA_3_8B:\n",
    "        prompt = (\n",
    "            \"<|begin_of_text|><|start_header_id|>system<|end_header_id|>\"\n",
    "            \"You are a helpful UBC student advising assistant who answers with kindness while being concise. Only generate one human readable answer\"\n",
    "            f\"<|start_header_id|>user<|end_header_id|>{question}\"\n",
    "            \"<|start_header_id|>assistant<|end_header_id|>\"\n",
    "        )\n",
    "    elif llm.model_id == LLAMA_3_70B:\n",
    "        prompt = (\n",
    "            \"<|startoftext|><|user|>\"\n",
    "            \"You are a helpful UBC student advising assistant who answers with kindness.\"\n",
    "            f\"{question}\\n\"\n",
    "            \"<|assistant|>\"\n",
    "        )\n",
    "    # elif llm.model_id.startswith(\"mistral.\"):\n",
    "    #     prompt = (\n",
    "    #         f\"### Instruction:\\nYou are a helpful UBC student advising assistant.\\n\\n\"\n",
    "    #         f\"### Query: {question}\\n\"\n",
    "    #         \"### Answer:\"\n",
    "    #     )\n",
    "\n",
    "    # Hold the result generated from the LLM\n",
    "    result = chain.invoke(prompt)\n",
    "\n",
    "    # Record the end time and find duration of answer only\n",
    "    answer_end_time = time.time()\n",
    "    answer_duration = answer_end_time - answer_start_time\n",
    "\n",
    "    # Record query and result\n",
    "    result_query = question\n",
    "    result_answer = result[\"result\"].strip()\n",
    "\n",
    "    # Initialize data structure to hold sources\n",
    "    source_documents = []\n",
    "\n",
    "    # Loop through each document in the source documents. Maximum of 5 documents to avoid latency\n",
    "    for doc in result['source_documents'][:5]:\n",
    "        # Extract the 'url' value from the page content\n",
    "        url_match = re.search(r'url:\\s*(\\S+)', doc.page_content)\n",
    "\n",
    "        # Extract the 'text' value from the page content\n",
    "        text_match = re.search(r'text:\\s*((.|\\n)*?)(?=\\n\\w+:\\s|$)', doc.page_content)\n",
    "\n",
    "        # Skip this iteration if either url or text is not found\n",
    "        if not url_match or not text_match:\n",
    "            continue\n",
    "\n",
    "        url = url_match.group(1)\n",
    "        text = text_match.group(1)\n",
    "\n",
    "        # Check if text found has large enough size\n",
    "        if len(text) > 20:\n",
    "            # Create a dictionary with the 'url' and 'text' values\n",
    "            source_dict = {\"url\": url, \"text\": text}\n",
    "\n",
    "            # Get answer to whether the text in the source relates with the question and answer\n",
    "            doc_relate = check_if_document_relates(source_dict, result_query, result_answer, llm)\n",
    "\n",
    "            # Add doc_relate to dictionary\n",
    "            source_dict[\"doc_relate\"] = doc_relate\n",
    "\n",
    "            # Append the dictionary to the list\n",
    "            source_documents.append(source_dict)\n",
    "\n",
    "    # Record the end time and find duration of the total time of checking over each document\n",
    "    total_end_time = time.time()\n",
    "    total_duration = total_end_time - total_start_time\n",
    "\n",
    "    # Return hashmap that holds query, result, source_documents, and time\n",
    "    return {\"query\": result_query, \"result\": result_answer, \"source_documents\": source_documents, \"answer_time\": answer_duration, \"total_time\": total_duration}\n",
    "\n",
    "# Choose between LLAMA_3_8B, LLAMA_3_70B, MISTRAL_7B, MISTRAL_LARGE\n",
    "response = answer_prompt(\"Does physics 100 count for the arts requirement?\", LLAMA_3_8B)\n",
    "\n",
    "for key, value in response.items():\n",
    "    print(f\"{key}: {value} \\n\")"
   ]
  },
  {
   "cell_type": "code",
   "execution_count": 16,
   "id": "278bcfe8-e438-4d15-9502-59b9a220574e",
   "metadata": {
    "tags": []
   },
   "outputs": [
    {
     "name": "stdout",
     "output_type": "stream",
     "text": [
      "query: Can I add a minor in fourth year? \n",
      "\n",
      "result: Unfortunately, it's generally not possible to add a minor in fourth year. The Science Advising team recommends exploring program options and career paths earlier in your undergraduate degree. However, I recommend reaching out to the Science Advising team or your program advisor to discuss your specific situation and potential alternatives. \n",
      "\n",
      "source_documents: [{'url': 'https://science.ubc.ca/students/advising', 'text': \"1. Join the Science Advising line. \\n  2. Review the final confirmation screen carefully.\\n  3. When it's your turn, you'll get a text with instructions.\", 'doc_relate': ' No, the document does not relate to the query. The document appears to be about the process of joining a Science Advising line, whereas the query is about adding a minor in fourth year.'}, {'url': 'https://science.ubc.ca/students/advising', 'text': \"If a medical or personal issue is affecting your academic life see us as soon as possible! Don't wait for exams. Our advisors can connect you with resources to help you cope with extenuating circumstances. We can also help you with general inquiries like applying for a minor, taking a term off, Faculty level requirements, taking summer courses, graduation eligibility, and more.\", 'doc_relate': ' Yes, the document relates to the query. The document mentions \"applying for a minor\" which is directly relevant to the query about adding a minor in fourth year.'}, {'url': 'https://science.ubc.ca/students/advising', 'text': \"As much as we want to help, we can't help you select a program specialization in second year, or with course selection once you're in a major. Picking a program is something you need to do on your own. Think about your interests and strengths. What career would you like to pursue? Are you passionate about one subject or a broad range of science disciplines? So go to program information sessions, workshops (such as Beyond First Year) and career expos. Your program advisor is the expert on requirements specific to your degree.\", 'doc_relate': ' No'}] \n",
      "\n",
      "answer_time: 1.7740750312805176 \n",
      "\n",
      "total_time: 5.371849298477173 \n",
      "\n"
     ]
    }
   ],
   "source": [
    "response = answer_prompt(\"Can I add a minor in fourth year?\", LLAMA_3_8B)\n",
    "\n",
    "for key, value in response.items():\n",
    "    print(f\"{key}: {value} \\n\")"
   ]
  },
  {
   "cell_type": "code",
   "execution_count": 11,
   "id": "b5fe98df-45fe-4ac4-9af0-273b59d2eab5",
   "metadata": {
    "tags": []
   },
   "outputs": [
    {
     "name": "stdout",
     "output_type": "stream",
     "text": [
      "query: When do I have to apply to add a commerce minor? \n",
      "\n",
      "result: I'm happy to help you with that! According to the UBC website, the application process and deadlines for adding a minor vary depending on your faculty and program. Unfortunately, I don't see that information in the provided context. I recommend checking the UBC website or contacting the Commerce department directly for the most up-to-date and accurate information. They'll be able to guide you through the process and provide you with the specific deadlines you need to know. Good luck with your application! \n",
      "\n",
      "source_documents: [{'url': 'https://science.ubc.ca/students/specialization-faq', 'text': 'Yes. If you’re waiting for an outcome regarding your UBC application, you still need to apply to the UBC BSc Specialization Application. If you’re offered admission to UBC Science, it’s an important step you need to have completed.', 'doc_relate': ' No, the document does not relate to the query.'}, {'url': 'https://science.ubc.ca/students/specialization-faq', 'text': 'Step 1 - IntroductionStep 2 - Frequently Asked QuestionsStep 3 - Select Your Three ChoicesStep 4 - Apply UBC Science acknowledges that the UBC Point Grey campus is situated on the traditional, ancestral, and unceded territory of the xʷməθkʷəy̓əm. Learn more: Musqueam First Nation', 'doc_relate': ' The document does not relate to the query.'}, {'url': 'https://science.ubc.ca/students/specialization-faq', 'text': 'Maybe. Depending on your registration date/time, you may be able to register in some or all of the courses required for your ideal specialization. However, you’ll also want to look at the courses required for your current program specialization—if you’re not successful in gaining entry to your ideal specialization next year and haven’t progressed in your assigned program specialization, you may find yourself in a situation where you’re not eligible to continue your studies. Do your research and make informed decisions about the level of risk you’re willing to take on. For example, if you reach 78 credits attempted and aren’t making progress in your program, you’ll be required to withdraw from the Faculty. Start your research by looking at promotion and Calendar requirements for the specialization you’re trying to switch to.', 'doc_relate': ' No, the document does not relate to the query.'}] \n",
      "\n",
      "answer_time: 3.7647621631622314 \n",
      "\n",
      "total_time: 6.659327268600464 \n",
      "\n"
     ]
    }
   ],
   "source": [
    "response = answer_prompt(\"When do I have to apply to add a commerce minor?\", LLAMA_3_70B)\n",
    "\n",
    "for key, value in response.items():\n",
    "    print(f\"{key}: {value} \\n\")"
   ]
  },
  {
   "cell_type": "code",
   "execution_count": 14,
   "id": "c21e6d11-9537-4118-b017-ae4b7045ed10",
   "metadata": {
    "tags": []
   },
   "outputs": [
    {
     "name": "stdout",
     "output_type": "stream",
     "text": [
      "query: I have an average of 54% and I have failed two courses this term. I haven't failed a course before this. Can I continue? \n",
      "\n",
      "result: Hi there! Sorry to hear that you've had a tough term. With a sessional average of 54% and having failed two courses, I'd like to clarify your academic standing. \n",
      "\n",
      "According to the Faculty of Science's academic performance review and continuation policy, if you have a sessional average of at least 50.0% but less than 55.0%, having failed one or more courses, you will be assigned Failed Standing. \n",
      "\n",
      "In your case, since you've failed two courses, you will likely be assigned Failed Standing. Unfortunately, this means you will be required to withdraw from the University entirely. \n",
      "\n",
      "However, don't worry! You can still continue your studies at UBC. You'll need to consult the Advancement Regulations and Withdrawal and Re-admission policies to understand the next steps. \n",
      "\n",
      "Remember, it's okay to face setbacks, and it's great that you're taking proactive steps to address your academic situation. If you have any questions or concerns, feel free to reach out to Science Advising for guidance. They're here to support you! \n",
      "\n",
      "source_documents: [{'url': 'https://science.ubc.ca/students/failed-course', 'text': 'The Faculty of Science looks at all of your courses in a session (the Winter Session is September to April; the Summer is May to August) when evaluating continuation. One or more failed grades will lower your sessional average, but your other grades will also determine what your academic standing is. Failing a core course will impact your progress through your degree, and it could impact your eligibility for a specialization, but you will likely not be set back a full year. If, for example, you are missing a course to progress to a 2nd year class standing in Science, you can still take 200-level courses next year as long as you have the prerequisites. Please review the Faculty of Science requirements along with the Science Requirements for Promotion and Degree Progression.', 'doc_relate': \" Yes, the document relates to the query. The document discusses the Faculty of Science's evaluation of continuation, which includes considering a student's sessional average and grades, including failed courses. The document also mentions that failing a core course may impact a student's progress through their degree, but they may not be set back a full year. This information is relevant to the query, which asks if the student can continue given their average and failed courses.\"}, {'url': 'https://science.ubc.ca/students/failed-course', 'text': 'Failing a course can be very difficult to face. Maybe the subject isn’t your strong suit, or you faced distractions from other courses or personal matters. At this point, it’s important to consider the impact of your failed course and to take appropriate steps going forward.', 'doc_relate': \" Yes, the document relates to the query. The document discusses the difficulties of failing a course, which is the situation described in the query. The document also provides guidance on how to move forward, which is relevant to the query's concern about whether the student can continue.\"}, {'url': 'https://science.ubc.ca/students/failed-course', 'text': 'There are a number of things to consider when thinking about moving forward. Take into consideration your course load and other commitments you had this past term, and how a change in those things could potentially help you with managing your courses more successfully in the future.The most important thing now is to reflect, learn from your failure, and find the resources you need to change the results in the future!\\n\\n* * *\\n\\nIf you are not sure about your situation and the impact of your failed grade(s), connect with Science Advising. UBC Science acknowledges that the UBC Point Grey campus is situated on the traditional, ancestral, and unceded territory of the xʷməθkʷəy̓əm. Learn more: Musqueam First Nation', 'doc_relate': ' Yes, the document relates to the query. The document provides guidance on how to move forward after failing a course, which is relevant to the query about continuing after failing two courses. The document also mentions connecting with Science Advising, which may be able to provide more specific information about the query.'}] \n",
      "\n",
      "answer_time: 3.880831241607666 \n",
      "\n",
      "total_time: 8.49456000328064 \n",
      "\n"
     ]
    }
   ],
   "source": [
    "response = answer_prompt(\"I have an average of 54% and I have failed two courses this term. I haven't failed a course before this. Can I continue?\", LLAMA_3_8B)\n",
    "\n",
    "for key, value in response.items():\n",
    "    print(f\"{key}: {value} \\n\")"
   ]
  },
  {
   "cell_type": "code",
   "execution_count": 16,
   "id": "bb5e6592-79af-435f-9541-ec1464258ccc",
   "metadata": {
    "tags": []
   },
   "outputs": [
    {
     "name": "stdout",
     "output_type": "stream",
     "text": [
      "query: My average was 40%, what happens now? \n",
      "\n",
      "result: Hi there! Sorry to hear that your average is 40%. If you're concerned about your academic standing, I recommend reaching out to the Science Advising team for guidance. They can help you explore options, such as meeting with an advisor or accessing resources to support your academic success. Additionally, you can also review the UBC's academic standing policy to understand the implications of your current average. Let's work together to find a solution that suits your needs! \n",
      "\n",
      "source_documents: [{'url': 'https://science.ubc.ca/students/advising', 'text': \"1. Join the Science Advising line. \\n  2. Review the final confirmation screen carefully.\\n  3. When it's your turn, you'll get a text with instructions.\", 'doc_relate': ' No, the document does not relate to the query. The document appears to be about the process for drop-in advising, whereas the query is about what happens when someone has an average of 40%.'}, {'url': 'https://science.ubc.ca/students/advising', 'text': 'We strongly recommend contacting us through drop-in advising - it allows us to provide better, more personalized advising and is more efficient. If it truly is not an option, you can leave a message. Please note that our response to these messages will be significantly delayed (peak periods: 10 - 15 business days) and the fastest way to connect with us is through drop-in advising. Science Advising Hours  \\nexcept statutory holidays \\n\\n   - ; Mon; Tues; Wed; Thu; Fri; \\n  - 9:30 am to 4 pm; Virtual drop-in ; Virtual drop-in; Virtual drop-in; Virtual drop-in; Virtual drop-in; \\n\\n*During the registration period, please check back regularly if the drop-in queue has filled up. In particular additional spaces should open most days at 11am as the number of available advisors updates the queueing estimate.', 'doc_relate': ' No, the document does not directly relate to the query about what happens when your average is 40%. The document appears to be about Science Advising hours and methods of contacting them.'}, {'url': 'https://science.ubc.ca/students/advising', 'text': \"If a medical or personal issue is affecting your academic life see us as soon as possible! Don't wait for exams. Our advisors can connect you with resources to help you cope with extenuating circumstances. We can also help you with general inquiries like applying for a minor, taking a term off, Faculty level requirements, taking summer courses, graduation eligibility, and more.\", 'doc_relate': ' No, the document does not relate to the query. The query is about the consequences of having a 40% average, while the document is about seeking help for academic issues, such as medical or personal issues, and general inquiries.'}, {'url': 'https://science.ubc.ca/students/advising', 'text': 'Confirm your graduation statusTake courses at another institutionApplications for dual degrees, minorsSubmit a form (ex. action plan, change of course registration or a third attempt appeal)', 'doc_relate': ' No'}] \n",
      "\n",
      "answer_time: 1.9117212295532227 \n",
      "\n",
      "total_time: 5.290626049041748 \n",
      "\n"
     ]
    }
   ],
   "source": [
    "response = answer_prompt(\"My average was 40%, what happens now?\", LLAMA_3_8B)\n",
    "\n",
    "for key, value in response.items():\n",
    "    print(f\"{key}: {value} \\n\")"
   ]
  },
  {
   "cell_type": "code",
   "execution_count": 18,
   "id": "f54ce80a-2bbe-4ebf-af6b-3b103cc885fe",
   "metadata": {
    "tags": []
   },
   "outputs": [
    {
     "name": "stdout",
     "output_type": "stream",
     "text": [
      "query: I missed my exam because I had covid, what do I do? \n",
      "\n",
      "result: Sorry to hear that you missed your exam due to COVID-19! \n",
      "\n",
      "According to the UBC Science website, if you're sick, it's important to stay home and not attend your exam. If you're unable to write the exam, contact Science Advising as soon as possible. You may need to provide a medical note to support your request for a deferred exam. Additionally, if you're experiencing an exam hardship (e.g., three exams scheduled within 24 hours), notify your instructor immediately. \n",
      "\n",
      "Please reach out to Science Advising for guidance on next steps. They're here to support you! \n",
      "\n",
      "source_documents: [{'url': 'https://science.ubc.ca/students/exam-issues', 'text': 'If you’re sick, it’s important that you stay home – no matter what you think you may be sick with (e.g., cold, flu, other). See the information under “I missed an exam. What do I do?” for next steps.', 'doc_relate': ' Yes, the document relates to the query. The document provides guidance on what to do if you\\'re sick, which aligns with the query about missing an exam due to having COVID. The document specifically mentions \"I missed an exam. What do I do?\" which is relevant to the query.'}, {'url': 'https://science.ubc.ca/students/blog/final-exams-how-to-deal', 'text': 'Mask A protective face mask. Menu Three horizontal lines indicating a menu. Minus A minus sign. Money A money bill. Telephone An antique telephone. Plus A plus symbol indicating more or the ability to add. RSS Curved lines indicating information transfer. Search A magnifying glass. Arrow indicating share action A directional arrow. Twitter The logo for the Twitter social media service. Youtube The logo for the YouTube video sharing service.', 'doc_relate': ' No, the document does not relate to the query. The document appears to be a generic set of icons and logos, and does not provide any information about what to do if you missed an exam due to having COVID.'}, {'url': 'https://science.ubc.ca/students/blog/final-exams-how-to-deal', 'text': 'If you are truly unable to write the exam, contact Science Advising as soon as possible. Get a medical note if you are sick, as documentation is expected if you need to apply for a deferred exam. An exam hardship happens when 3 final exams are scheduled within a 24-hour period. If that happens, notify your instructor immediately. Learn more.', 'doc_relate': ' Yes, the document relates to the query. The document provides information on what to do if you are unable to write an exam, including contacting Science Advising and providing a medical note if you are sick. This information is directly relevant to the query about missing an exam due to having COVID.'}, {'url': 'https://science.ubc.ca/students/blog-page=5', 'text': \"Reduce Your Winter WorkloadBy taking summer courses, you can reduce your… read more \\n  4.    What Do I Do If I Miss Classes? \\n\\n It may feel like there’s nothing you can do and you’ve just forfeited big chunks of your grades, but keep in mind that you have options.1. Address Your HealthFirst of all, make sure that you’re addressing any health concerns. If you don’t have a family doctor in Vancouver, or if you have been… read more \\n  5.    Become a UBC Student Leader \\n\\nGive back to the community and make the UBC experience great for new and current students. Applications for these roles typically open throughout term two (e.g. January through April). Keep an eye on the websites below and your Distillation emails. Science Orientations LeaderHelp new-to… read more \\n  6.    How to Deal with Final Exams \\n\\nLearn tips to lessen the stress and anxiety you feel during the final exam period.1. It's Natural to Feel Some Anxiety\", 'doc_relate': \" Yes, the document is relevant to the query. The document provides information on what to do if you miss classes, which includes addressing health concerns. Since the query mentions missing an exam due to having COVID, the document's information on addressing health concerns is directly applicable.\"}] \n",
      "\n",
      "answer_time: 2.166828155517578 \n",
      "\n",
      "total_time: 7.548005104064941 \n",
      "\n"
     ]
    }
   ],
   "source": [
    "response = answer_prompt(\"I missed my exam because I had covid, what do I do?\", LLAMA_3_8B)\n",
    "\n",
    "for key, value in response.items():\n",
    "    print(f\"{key}: {value} \\n\")"
   ]
  },
  {
   "cell_type": "code",
   "execution_count": 19,
   "id": "a493dd55-ff7b-4322-9d8b-03eae47022c1",
   "metadata": {
    "tags": []
   },
   "outputs": [
    {
     "name": "stdout",
     "output_type": "stream",
     "text": [
      "query: I slept through my exam, what do I do? \n",
      "\n",
      "result: Oh no, sorry to hear that! If you slept through your exam, it's essential to act quickly. First, reach out to Science Advising as soon as possible. They'll guide you through the process and help you figure out what to do next. If you're feeling unwell, be sure to get a medical note, as documentation is required for a deferred exam. Additionally, if you're experiencing an exam hardship (e.g., three final exams within 24 hours), notify your instructor right away. Remember, it's crucial to take immediate action to minimize the impact on your academic progress. \n",
      "\n",
      "source_documents: [{'url': 'https://science.ubc.ca/students/exam-issues', 'text': 'If you’re sick, it’s important that you stay home – no matter what you think you may be sick with (e.g., cold, flu, other). See the information under “I missed an exam. What do I do?” for next steps.', 'doc_relate': \" Yes, the document relates to the query. The document provides information on what to do if you're sick and missed an exam, which is directly relevant to the query about sleeping through an exam.\"}, {'url': 'https://science.ubc.ca/students/blog/final-exams-how-to-deal', 'text': 'Mask A protective face mask. Menu Three horizontal lines indicating a menu. Minus A minus sign. Money A money bill. Telephone An antique telephone. Plus A plus symbol indicating more or the ability to add. RSS Curved lines indicating information transfer. Search A magnifying glass. Arrow indicating share action A directional arrow. Twitter The logo for the Twitter social media service. Youtube The logo for the YouTube video sharing service.', 'doc_relate': ' No, the document does not relate to the query.'}, {'url': 'https://science.ubc.ca/students/blog/final-exams-how-to-deal', 'text': 'If you are truly unable to write the exam, contact Science Advising as soon as possible. Get a medical note if you are sick, as documentation is expected if you need to apply for a deferred exam. An exam hardship happens when 3 final exams are scheduled within a 24-hour period. If that happens, notify your instructor immediately. Learn more.', 'doc_relate': ' Yes, the document relates to the query. The document provides information on what to do if you are unable to write an exam, including contacting Science Advising and obtaining a medical note if you are sick.'}, {'url': 'https://science.ubc.ca/students/blog/final-exams-how-to-deal', 'text': '- Future Students \\n  - Current Undergrads \\n  - Grad Students \\n  - Faculty + Staff \\n  - Alumni \\n  - Donors', 'doc_relate': ' No, the document does not relate to the query. The query is about sleeping through an exam and what to do, but the provided document is a general category page for a university website, not providing any relevant information or solutions to the query.'}] \n",
      "\n",
      "answer_time: 2.3134732246398926 \n",
      "\n",
      "total_time: 5.743757009506226 \n",
      "\n"
     ]
    }
   ],
   "source": [
    "response = answer_prompt(\"I slept through my exam, what do I do?\", LLAMA_3_8B)\n",
    "\n",
    "for key, value in response.items():\n",
    "    print(f\"{key}: {value} \\n\")"
   ]
  },
  {
   "cell_type": "code",
   "execution_count": 20,
   "id": "c22d1454-fe4a-41d4-859f-c2bf1e7f1807",
   "metadata": {
    "tags": []
   },
   "outputs": [
    {
     "name": "stdout",
     "output_type": "stream",
     "text": [
      "query: Does ENGL 110 count for the arts requirement? \n",
      "\n",
      "result: I'm happy to help you with that! However, I don't have enough information to provide a specific answer. The provided context doesn't mention ENGL 110 or its relation to the arts requirement. Could you please provide more context or clarify which program or faculty you're referring to? I'll do my best to assist you. \n",
      "\n",
      "source_documents: [{'url': 'https://vancouver.calendar.ubc.ca/faculties-colleges-and-schools/faculty-arts/bachelor-fine-arts/academic-advising', 'text': 'The Arts Academic Advising office, located in the Buchanan complex, Block D, Room D111 (1866 Main Mall), is open throughout the year: Monday-Friday, from 9:00 am-4:30 pm, for in-person, telephone (604-822-4028), and email (arts.advisor@ubc.ca) inquiries. Drop-in advising and pre-booked appointments are available daily. Students should consult the Arts Undergraduates website prior to contacting the Advising office for an inquiry or to request an advising appointment. \\n\\n Departmental advisors, experts in the student’s specialized area of study in the Fine Arts, are located in the relevant department. They assist with questions related to their program’s requirements, courses, and internal functions such as waiting lists. They also determine if unassigned transfer credits may be applied to program requirements, and consider requests for course registration approval. \\n\\n  - Department of Art History, Visual Art, and Theory\\n  - Creative Writing Program\\n  - Department of Theatre and Film', 'doc_relate': ' Yes, the document is relevant to the query.'}, {'url': 'https://vancouver.calendar.ubc.ca/faculties-colleges-and-schools/faculty-arts/bachelor-arts/academic-advising', 'text': 'Bachelor of Arts students seeking information about admission to or continuation in other degree programs in the Faculty of Arts should speak with Arts Academic Advising or the Departmental Advisor in the desired program. Students seeking such information for Faculties other than Arts should contact the respective Faculty directly for information. Students registered in another Faculty who wish to complete a specialization in Arts should consult their home Faculty’s undergraduate advising office and the Departmental Advisor in the desired program area, preferably prior to registration.', 'doc_relate': ' No, the document does not relate to the query. The query is about ENGL 110 and its relevance to the arts requirement, but the provided documents do not contain information about ENGL 110 or its relationship to the arts requirement.'}, {'url': 'https://vancouver.calendar.ubc.ca/faculties-colleges-and-schools/faculty-arts/bachelor-arts/registration#22590', 'text': 'By completing a full course load of 30 credits each Winter Session, a Bachelor of Arts degree may be earned in four years of study, although students may choose to complete their degree requirements over either a shorter or longer time period. Students who wish to register for more than 30 credits (32 credits for first-year students) in any Winter Session or more than 12 credits in any Summer Session must first obtain permission from Arts Academic Advising. Such authorization is normally given only to students with demonstrated high academic standing in a sufficient number of UBC credits completed in the most recent Term or Session. See the Arts Undergraduate website. \\n\\nNote that credit load impacts eligibility for student loans, sponsorship, housing, varsity sport, and recognition on the Dean’s List, as well as eligibility to both receive and retain awards and scholarships.', 'doc_relate': ' Yes, the document relates to the query. The document discusses the credit load and registration requirements for the Bachelor of Arts program, which includes information about the maximum number of credits that can be taken outside of Arts. The query asks about a specific course, ENGL 110, and whether it counts towards the arts requirement. The document does not directly address this question, but it does provide general information about the arts requirement and credit load, which may be relevant to the query.'}, {'url': 'https://vancouver.calendar.ubc.ca/faculties-colleges-and-schools/faculty-arts/bachelor-arts/academic-advising', 'text': 'The Faculty of Arts provides academic advising resources to support Bachelor of Arts students throughout their degree. \\n\\n The Academic Advisors, front counter and phone staff of Arts Academic Advising are available to assist undergraduate students in their academic planning; provide degree, program, course, and registration advice; interpret and administer Faculty and University regulations; and consider requests for academic concession and letters of permission. Arts Academic Advising also assists students in connecting with appropriate support resources, both academic and non-academic, and provides information and advice about degree, promotion, continuation, and graduation requirements. \\n\\n The Arts Academic Advising office, located in the Buchanan complex, Block D, Room D111 (1866 Main Mall), is open throughout the year: Monday-Friday, from 9:00 am-4:30 pm, for in-person, telephone (604-822-4028), and email (arts.advisor(at)ubc.ca) inquiries.', 'doc_relate': ' Yes, the document is relevant to the query.'}] \n",
      "\n",
      "answer_time: 2.268066883087158 \n",
      "\n",
      "total_time: 6.142568111419678 \n",
      "\n"
     ]
    }
   ],
   "source": [
    "response = answer_prompt(\"Does ENGL 110 count for the arts requirement?\", LLAMA_3_70B)\n",
    "\n",
    "for key, value in response.items():\n",
    "    print(f\"{key}: {value} \\n\")"
   ]
  },
  {
   "cell_type": "code",
   "execution_count": 21,
   "id": "6a55d231-b1d8-49ac-ae07-ab2dcf3385a3",
   "metadata": {
    "tags": []
   },
   "outputs": [
    {
     "name": "stdout",
     "output_type": "stream",
     "text": [
      "query: Can I take PSYC 120 for the arts requirement? \n",
      "\n",
      "result: I'd be happy to help you with that! However, I need a bit more information to give you a accurate answer. Could you please tell me what program you're in (e.g., Bachelor of Fine Arts, Bachelor of Arts, etc.) and what faculty you're a part of (e.g., Faculty of Arts, Faculty of Science, etc.)? That way, I can give you the best advice possible! \n",
      "\n",
      "source_documents: [{'url': 'https://vancouver.calendar.ubc.ca/faculties-colleges-and-schools/faculty-arts/bachelor-fine-arts/academic-advising', 'text': 'The Arts Academic Advising office, located in the Buchanan complex, Block D, Room D111 (1866 Main Mall), is open throughout the year: Monday-Friday, from 9:00 am-4:30 pm, for in-person, telephone (604-822-4028), and email (arts.advisor@ubc.ca) inquiries. Drop-in advising and pre-booked appointments are available daily. Students should consult the Arts Undergraduates website prior to contacting the Advising office for an inquiry or to request an advising appointment. \\n\\n Departmental advisors, experts in the student’s specialized area of study in the Fine Arts, are located in the relevant department. They assist with questions related to their program’s requirements, courses, and internal functions such as waiting lists. They also determine if unassigned transfer credits may be applied to program requirements, and consider requests for course registration approval. \\n\\n  - Department of Art History, Visual Art, and Theory\\n  - Creative Writing Program\\n  - Department of Theatre and Film', 'doc_relate': ' Yes, the document relates to the query. The query is about taking a course (PSYC 120) for an arts requirement, and the document provides information about the Arts Academic Advising office, including their hours of operation and contact information. The document also mentions departmental advisors who can assist with questions related to program requirements, courses, and internal functions, which is relevant to the query.'}, {'url': 'https://vancouver.calendar.ubc.ca/faculties-colleges-and-schools/faculty-arts/bachelor-arts/academic-advising', 'text': 'Bachelor of Arts students seeking information about admission to or continuation in other degree programs in the Faculty of Arts should speak with Arts Academic Advising or the Departmental Advisor in the desired program. Students seeking such information for Faculties other than Arts should contact the respective Faculty directly for information. Students registered in another Faculty who wish to complete a specialization in Arts should consult their home Faculty’s undergraduate advising office and the Departmental Advisor in the desired program area, preferably prior to registration.', 'doc_relate': ' No, the document does not relate to the query. The query is about taking PSYC 120 for the arts requirement, but the provided document is about admission to or continuation in other degree programs in the Faculty of Arts.'}, {'url': 'https://vancouver.calendar.ubc.ca/faculties-colleges-and-schools/faculty-arts/bachelor-arts/registration#22590', 'text': 'Students are strongly advised to consult the Arts Undergraduate website and to seek advising from the appropriate department or unit when selecting or modifying their course load.', 'doc_relate': ' Yes, the document relates to the query.'}, {'url': 'https://science.ubc.ca/students/minors', 'text': 'Students should design a course of studies for their proposed Arts Minor, which must be approved by Science Advising by the end of Year 3.18-credit Minor in Arts  \\nStudents must submit an application to Science Advising for review.30-credit Minor in Arts  \\nStudents need approval from the appropriate department/program advisor in Arts (not the Arts Academic Advising Office) before submitting the application to Science Advising for review.Application Periods: April 1 to May 15 & August 1 to September 30', 'doc_relate': ' Yes, the document relates to the query.'}] \n",
      "\n",
      "answer_time: 2.6055748462677 \n",
      "\n",
      "total_time: 6.971803665161133 \n",
      "\n"
     ]
    }
   ],
   "source": [
    "response = answer_prompt(\"Can I take PSYC 120 for the arts requirement?\", LLAMA_3_70B)\n",
    "\n",
    "for key, value in response.items():\n",
    "    print(f\"{key}: {value} \\n\")"
   ]
  },
  {
   "cell_type": "code",
   "execution_count": 12,
   "id": "7e0cf183-3f0e-4470-9952-6c8e533316eb",
   "metadata": {
    "tags": []
   },
   "outputs": [
    {
     "name": "stdout",
     "output_type": "stream",
     "text": [
      "query: Does physics 100 count for the arts requirement? \n",
      "\n",
      "result: I'm happy to help you out! According to the UBC calendar, the Arts Requirement is specific to courses offered by the Faculty of Arts. Physics 100 is a Science course, so it wouldn't count towards the Arts Requirement. You'll need to take courses from the Faculty of Arts, such as those in the humanities, social sciences, or languages, to fulfill this requirement. If you have any more questions or need help finding suitable Arts courses, feel free to ask! \n",
      "\n",
      "source_documents: [{'url': 'https://science.ubc.ca/students/minors', 'text': 'Students should design a course of studies for their proposed Arts Minor, which must be approved by Science Advising by the end of Year 3.18-credit Minor in Arts  \\nStudents must submit an application to Science Advising for review.30-credit Minor in Arts  \\nStudents need approval from the appropriate department/program advisor in Arts (not the Arts Academic Advising Office) before submitting the application to Science Advising for review.Application Periods: April 1 to May 15 & August 1 to September 30', 'doc_relate': ' No, the document does not relate to the query. It discusses Arts Minors, application periods, and approval processes, but does not mention Physics 100 or the Arts requirement.'}, {'url': 'https://vancouver.calendar.ubc.ca/faculties-colleges-and-schools/faculty-science/bachelor-science/science-and-arts-requirements#18441', 'text': 'At least 12 credits must be in courses offered by the Faculty of Arts, excluding GEOS (or GEOB) courses and PSYC courses with science credit (see Science Requirement). Arts credits taken to fulfill the Communication Requirement may not be counted towards the Arts Requirement.\\n\\nASIC 200 and ASIC 220, which are jointly offered by Science and Arts, will be applied as Arts Credit for Science students.\\n\\nAll MUSC courses in music history, music theory, ethnomusicology, or music composition, and a maximum of 8 credits from the ensemble courses in musical performance, may count as Arts credits in a B.Sc. program.', 'doc_relate': ' No, the document does not mention Physics 100, so it does not provide an answer to the query.'}, {'url': 'https://vancouver.calendar.ubc.ca/faculties-colleges-and-schools/faculty-arts/bachelor-fine-arts/academic-advising', 'text': 'The Arts Academic Advising office, located in the Buchanan complex, Block D, Room D111 (1866 Main Mall), is open throughout the year: Monday-Friday, from 9:00 am-4:30 pm, for in-person, telephone (604-822-4028), and email (arts.advisor@ubc.ca) inquiries. Drop-in advising and pre-booked appointments are available daily. Students should consult the Arts Undergraduates website prior to contacting the Advising office for an inquiry or to request an advising appointment. \\n\\n Departmental advisors, experts in the student’s specialized area of study in the Fine Arts, are located in the relevant department. They assist with questions related to their program’s requirements, courses, and internal functions such as waiting lists. They also determine if unassigned transfer credits may be applied to program requirements, and consider requests for course registration approval. \\n\\n  - Department of Art History, Visual Art, and Theory\\n  - Creative Writing Program\\n  - Department of Theatre and Film', 'doc_relate': ' No, the document does not provide information about whether Physics 100 counts for the arts requirement.'}, {'url': 'https://science.ubc.ca/students/faculty-requirements', 'text': 'At least 72 credits must be in Science courses. 12 credits of Arts courses are required, separate from any English courses taken for the Communication Requirement. Students can take courses in the humanities, social sciences, and languages to fulfill the Science and Arts Requirement.', 'doc_relate': ' The document does not explicitly answer the query, but it does provide information about the Science and Arts Requirement, which might be relevant to the question about whether Physics 100 counts for the arts requirement.'}] \n",
      "\n",
      "answer_time: 3.60098934173584 \n",
      "\n",
      "total_time: 10.047167539596558 \n",
      "\n"
     ]
    }
   ],
   "source": [
    "response = answer_prompt(\"Does physics 100 count for the arts requirement?\", LLAMA_3_70B)\n",
    "\n",
    "for key, value in response.items():\n",
    "    print(f\"{key}: {value} \\n\")"
   ]
  },
  {
   "cell_type": "code",
   "execution_count": 223,
   "id": "624b24f2-8190-4347-9d2f-4150f96e9094",
   "metadata": {
    "tags": []
   },
   "outputs": [
    {
     "name": "stdout",
     "output_type": "stream",
     "text": [
      "query: CPSC 110 waitlist is full, what do I do? \n",
      "\n",
      "result: Oh no, I'm so sorry to hear that the CPSC 110 waitlist is full! Don't worry, there's still hope! According to our courses FAQ, a lot of registration changes happen in the first week or so of school, sometimes even right up until the add/drop deadline. You might want to try checking the course registration regularly to see if any spots open up. Additionally, you can also try reaching out to your instructor or academic advisor to see if they have any advice or can offer any assistance. Remember, we're all here to help you achieve your academic goals! If you have any more questions or need further guidance, feel free to connect with Science Advising. \n",
      "\n",
      "source_documents: [{'url': 'https://science.ubc.ca/students/courses-faq', 'text': 'As noted above, we can’t put you in a course if it’s full; however, if you’ve encountered another difficulty that is not resolved with the above steps, connect with us right away.', 'doc_relate': ' Yes, the document relates to the query. The query is about what to do when a waitlist is full, and the document provides steps to follow when a course is full, including checking for a waitlist and keeping an eye on the course via Workday.'}, {'url': 'https://science.ubc.ca/students/blog/missed-classes', 'text': 'In addition to speaking with your faculty advisor, you should also contact your Enrolment Services Advisor (ESA) to inquire about the non-academic impacts of a late withdrawal.\\n\\n* * *\\n\\nBy connecting with your instructors, your academic advisor and your ESA, you will be well supported and connected to helpful resources around campus. We’re all here to help you achieve your academic goals!Questions? Connect with Science Advising.\\n\\n* * *\\n\\n  - Courses', 'doc_relate': ' Yes, the document relates to the query. The document discusses the non-academic impacts of a late withdrawal and mentions Enrolment Services Advisor (ESA), which is relevant to the query about CPSC 110 waitlist being full.'}, {'url': 'https://science.ubc.ca/students/advising', 'text': \"1. Join the Science Advising line. \\n  2. Review the final confirmation screen carefully.\\n  3. When it's your turn, you'll get a text with instructions.\", 'doc_relate': ' Yes, the document relates to the query. The query is about the waitlist being full, and the document provides general advice on what to do when a class is full, including registering for the waitlist.'}, {'url': 'https://science.ubc.ca/students/courses-faq', 'text': 'A lot of registration changes happen in the first week or so of school, sometimes even right up until the add/drop deadline. Read this blog post on how to try and secure a spot in a class, or a particular section of a lab.', 'doc_relate': ' Yes, the document relates to the query. The relevance is 0.8.'}] \n",
      "\n",
      "answer_time: 3.79398775100708 \n",
      "\n",
      "total_time: 7.618666887283325 \n",
      "\n"
     ]
    }
   ],
   "source": [
    "response = answer_prompt(\"CPSC 110 waitlist is full, what do I do?\", LLAMA_3_70B)\n",
    "\n",
    "for key, value in response.items():\n",
    "    print(f\"{key}: {value} \\n\")"
   ]
  },
  {
   "cell_type": "code",
   "execution_count": 224,
   "id": "4b356fcd-89c3-4035-898e-5539685480ae",
   "metadata": {
    "tags": []
   },
   "outputs": [
    {
     "name": "stdout",
     "output_type": "stream",
     "text": [
      "query: I am in second year major chemistry, do I have to take MATH 221? \n",
      "\n",
      "result: Hi there! I'm happy to help you with your question. According to the UBC calendar, there is no specific requirement for MATH 221 in the second year of the Major in Chemistry program. However, I would recommend checking your program requirements and consulting with an academic advisor to ensure you're meeting all the necessary requirements for your degree. Additionally, you may want to consider taking MATH 221 if you're interested in pursuing a more theoretical or computational aspect of chemistry, as it can be a useful skillset to have. But ultimately, it's not a required course for your program. Hope this helps! \n",
      "\n",
      "source_documents: [{'url': 'https://vancouver.calendar.ubc.ca/faculties-colleges-and-schools/faculty-science/bachelor-science/mathematics#5464', 'text': '- MATH 200 (or 226) ( Students obtaining 68% or higher in MATH 226 may replace MATH 220 with 3 credits of electives. In order to be promoted to third year, students must complete one of MATH 220, 226. ): 3\\n  - MATH 220 ( Students obtaining 68% or higher in MATH 226 may replace MATH 220 with 3 credits of electives. In order to be promoted to third year, students must complete one of MATH 220, 226. ): 3\\n  - MATH 221 (or 223), 215 ( MATH 215 may be deferred until third year. ): 6\\n  - CPSC 210 or MATH 210 ( A 4-credit course may substitute for a 3-credit course to satisfy a specified requirement by decreasing the electives in any year by 1 credit. MATH 210 may not be offered every year. ): 3\\n  - Electives ( Students are permitted to move elective credits between years.', 'doc_relate': ' Yes, the document is relevant to the query. The document mentions MATH 221 and its relationship with other math courses, which is the main concern of the query.'}, {'url': 'https://vancouver.calendar.ubc.ca/faculties-colleges-and-schools/faculty-science/bachelor-science/mathematics#5465', 'text': 'The Department makes the following recommendations: \\n\\n  1. Mathematically able students are encouraged to take the honours stream MATH 120, 121, 223, 226, and 227. \\n  2. In second year, MATH 221 should be taken in Term 1. It is possible to take (with appropriate prerequisites) some of MATH 307, 308, 312, 317, 340, and MATH/STAT 302 (as well as MATH 300) in the second year. \\n  3. Students interested in pursuing statistics to some depth should take STAT 200 and MATH/STAT 302 in the second year. This will prepare them for more advanced statistics courses such as STAT 305, 306, and 404. \\n  4. Major students should consider taking some of MATH 300, 320, 322. \\n  5. MATH 302 and MATH 307 are courses which are useful in many areas of mathematics. \\n  6. Students interested in operations research should take MATH 340, 441, 442, and 443. They are also advised to take MATH 303, STAT 305, and 306, and some advanced computer science courses.', 'doc_relate': ' Yes, the document is relevant to the query.'}, {'url': 'https://vancouver.calendar.ubc.ca/faculties-colleges-and-schools/faculty-science/bachelor-science/mathematics#5470', 'text': '- CPSC 210, 213, 221: 12\\n  - MATH 200 (or 226), 221 (or 223) ( Students obtaining 68% or higher in MATH 226 may replace MATH 220 with 3 credits of electives. In order to be promoted to third year, students must complete one of MATH 220, 226. ): 6\\n  - MATH 220 ( Students obtaining 68% or higher in MATH 226 may replace MATH 220 with 3 credits of electives. In order to be promoted to third year, students must complete one of MATH 220, 226. ): 3\\n  - MATH/STAT 302: 3\\n  - STAT 200, 201: 6\\n  - Total Credits: 30', 'doc_relate': ' Yes, the document relates to the query. The document appears to be a course requirement for a major in Mathematical Sciences, which is relevant to the query about taking MATH 221 as a chemistry major.'}] \n",
      "\n",
      "answer_time: 3.510348081588745 \n",
      "\n",
      "total_time: 6.6170032024383545 \n",
      "\n"
     ]
    }
   ],
   "source": [
    "response = answer_prompt(\"I am in second year major chemistry, do I have to take MATH 221?\", LLAMA_3_70B)\n",
    "\n",
    "for key, value in response.items():\n",
    "    print(f\"{key}: {value} \\n\")"
   ]
  },
  {
   "cell_type": "code",
   "execution_count": 225,
   "id": "01573d80-ffe0-4070-a242-2389ff608eda",
   "metadata": {
    "tags": []
   },
   "outputs": [
    {
     "name": "stdout",
     "output_type": "stream",
     "text": [
      "query: I am in second year major chemistry, do I need to take any biology courses? \n",
      "\n",
      "result: Ah, hi there! As a friendly UBC student advising assistant, I'm more than happy to help you out. According to the UBC calendar, the chemistry major doesn't explicitly require any biology courses. However, it's essential to note that some chemistry courses might have biology prerequisites or co-requisites. I would recommend checking the course descriptions and prerequisites for the specific chemistry courses you're interested in taking to ensure you meet the requirements. Additionally, if you're considering a minor or specialization that involves biology, you might need to take biology courses. It's always a good idea to consult with a Science advisor or your departmental advisor to get personalized advice tailored to your academic goals. They can help you create a plan that suits your needs. Would you like me to help you find the contact information for the Science advising team or your departmental advisor? \n",
      "\n",
      "source_documents: [{'url': 'https://science.ubc.ca/students/courses-faq', 'text': 'Drop in to Science Advising and speak with a Science advisor. UBC Science acknowledges that the UBC Point Grey campus is situated on the traditional, ancestral, and unceded territory of the xʷməθkʷəy̓əm. Learn more: Musqueam First Nation', 'doc_relate': ' No\\nExplanation: The document does not mention biology courses or second-year major chemistry.'}, {'url': 'https://science.ubc.ca/students/courses-faq', 'text': \"Not every course listed as a 'first-year course' in the Calendar description of your major has to be completed in your first winter session. Be strategic. For example, if your intended major includes second-year CHEM courses, then you have to complete the first-year CHEM courses in first year. Another example is if your major doesn’t include any second-year PHYS courses, you could delay a required first-year PHYS course until second year.\", 'doc_relate': ' No, the document does not directly relate to the query. The document is about the flexibility of taking first-year courses in first year, whereas the query is about taking biology courses in second year.'}, {'url': 'https://science.ubc.ca/students/courses-faq', 'text': '1. Home\\n  2. Current Undergraduate Students\\n  3. Frequently Asked Questions: Courses', 'doc_relate': ' Yes, the document is relevant to the query.'}, {'url': 'https://science.ubc.ca/students/courses-faq', 'text': \"These questions supplement the Choosing Your Courses guide. If you haven't already, familiarize yourself with the guide before reading on.\", 'doc_relate': ' Yes, the document relates to the query. The relevant information is that the document is about choosing courses in first year science, but it mentions that all Science students must take at least one lab course, which can be a stand-alone lab course or a lecture with a lab component. This information is relevant to the query because it suggests that biology courses may be relevant to the query.'}] \n",
      "\n",
      "answer_time: 4.8025431632995605 \n",
      "\n",
      "total_time: 8.363649129867554 \n",
      "\n"
     ]
    }
   ],
   "source": [
    "response = answer_prompt(\"I am in second year major chemistry, do I need to take any biology courses?\", LLAMA_3_70B)\n",
    "\n",
    "for key, value in response.items():\n",
    "    print(f\"{key}: {value} \\n\")"
   ]
  },
  {
   "cell_type": "code",
   "execution_count": 226,
   "id": "d5c6a323-2c0e-450e-b620-8c26d5f7059b",
   "metadata": {},
   "outputs": [
    {
     "name": "stdout",
     "output_type": "stream",
     "text": [
      "query: Can I take CHEM 233 instead of CHEM 203? \n",
      "\n",
      "result: According to the UBC calendar, students with CHEM 235 and a score of 76% or higher in CHEM 233 may apply for admission to the Honours (0213): Chemistry (CHEM) specialization and will be allowed to use CHEM 233 and 235 in place of CHEM 203. So, yes, you can take CHEM 233 instead of CHEM 203, but you need to meet the specific requirements mentioned above. \n",
      "\n",
      "source_documents: [{'url': 'https://vancouver.calendar.ubc.ca/faculties-colleges-and-schools/faculty-science/bachelor-science/chemistry#5154', 'text': 'CHEM 123 is the normal prerequisite for admission to Chemistry specializations. Students with credit only for Chemistry 11 take CHEM 111 before taking CHEM 123, whereas those with credit for Chemistry 12 take CHEM 121. In addition, students applying for entrance to Chemistry specializations must have completed MATH 100 and MATH 101 (or their equivalents).', 'doc_relate': ' Yes, the document is relevant to the query. The document provides information about the prerequisites for admission to Chemistry specializations, which includes completing CHEM 123. However, it does not directly answer the query about taking CHEM 233 instead of CHEM 203. To answer this query, we need to look at other documents that provide information about the specific requirements for the Chemistry specializations.'}, {'url': 'https://vancouver.calendar.ubc.ca/faculties-colleges-and-schools/faculty-science/bachelor-science/chemistry#5176', 'text': '- CHEM 203 ( CHEM 223 and 225 may substitute for CHEM 203. Students with CHEM 235 and a score of 76% or higher in CHEM 233 may apply for admission to this specialization and will be allowed to use CHEM 233 and 235 in place of CHEM 203. ): 4\\n  - CHEM 208: 3\\n  - CHEM 211 ( CHEM 210 and 215 may substitute for CHEM 211. ): 4\\n  - CHEM 213, 245: 4\\n  - CHEM 218: 3\\n  - MATH 200: 3\\n  - MATH 221: 3\\n  - Electives ( Elective credits together with required courses must fulfill the Faculty of Science’s:  \\na) Foundational Requirement;  \\nb) Laboratory Science Requirement;  \\nc) Science Breadth Requirement;  \\nd) Science and Arts Requirements;  \\ne) Upper-level Requirement;  \\nf) General Degree Requirements.  \\n Elective credits may be redistributed among the years in this specialization, provided the total number remains the same. The year level of an elective does not need to correspond to the year level of the specialization.', 'doc_relate': ' Yes, the document relates to the query. The document mentions that students with CHEM 235 and a score of 76% or higher in CHEM 233 may apply for admission to this specialization and will be allowed to use CHEM 233 and 235 in place of CHEM 203. This suggests that it is possible to take CHEM 233 instead of CHEM 203.'}, {'url': 'https://vancouver.calendar.ubc.ca/faculties-colleges-and-schools/faculty-science/bachelor-science/chemistry#5156', 'text': 'Second-year course registration in Chemistry specializations uses Standard Timetables (STT). The comments in the Course Schedule associated with an STT provide useful information that students should consult before contacting an Undergraduate Advisor. Students are required to have completed the equivalent of two one-semester introductory chemistry courses. Students intending to take organic chemistry (CHEM 203/213 or CHEM 233) should be familiar with the organic chemistry content found in CHEM 123.', 'doc_relate': ' Yes, the document is relevant to the query. The document mentions that students intending to take organic chemistry (CHEM 203/213 or CHEM 233) should be familiar with the organic chemistry content found in CHEM 123. This suggests that the document is discussing requirements for taking organic chemistry courses, which is related to the query about taking CHEM 233 instead of CHEM 203.'}, {'url': 'https://science.ubc.ca/students/transfer-courses', 'text': 'And if you have CHEM 2nd transfer credit for a chemistry course that covered some organic chemistry but not everything in the curriculum of the required course at UBC, you’ll need to take a second year UBC organic chemistry class to fulfill your degree requirement.', 'doc_relate': ' Yes, the document is relevant to the query. The document mentions CHEM 2nd transfer credit and organic chemistry, which is related to the query about taking CHEM 233 instead of CHEM 203.'}] \n",
      "\n",
      "answer_time: 2.5596063137054443 \n",
      "\n",
      "total_time: 8.327450037002563 \n",
      "\n"
     ]
    }
   ],
   "source": [
    "response = answer_prompt(\"Can I take CHEM 233 instead of CHEM 203?\", LLAMA_3_70B)\n",
    "\n",
    "for key, value in response.items():\n",
    "    print(f\"{key}: {value} \\n\")"
   ]
  },
  {
   "cell_type": "code",
   "execution_count": 21,
   "id": "b44bcb4e-6b0e-4ee6-8b60-e0bcb234a42e",
   "metadata": {},
   "outputs": [
    {
     "name": "stdout",
     "output_type": "stream",
     "text": [
      "query: What are the specializations in the Faculty of Science? \n",
      "\n",
      "result: The Faculty of Science at UBC offers a wide range of specializations across various departments. Some examples include:\n",
      "\n",
      "* Biological Sciences: Biochemistry, Biology, Biophysics, Microbiology, and Neuroscience\n",
      "* Chemistry: Analytical Chemistry, Biochemistry, Inorganic Chemistry, Organic Chemistry, Physical Chemistry, and Theoretical Chemistry\n",
      "* Earth and Ocean Sciences: Earth Sciences, Ocean Sciences, and Planetary Science\n",
      "* Mathematics: Pure Mathematics, Applied Mathematics, and Statistics\n",
      "* Physics and Astronomy: Physics, Astronomy, and Theoretical Physics\n",
      "\n",
      "Please note that specializations may vary depending on the department and program. For more information, I recommend visiting the Faculty of Science's website or consulting with a Science advisor. \n",
      "\n",
      "source_documents: [{'url': 'https://science.ubc.ca/students/advising', 'text': \"If a medical or personal issue is affecting your academic life see us as soon as possible! Don't wait for exams. Our advisors can connect you with resources to help you cope with extenuating circumstances. We can also help you with general inquiries like applying for a minor, taking a term off, Faculty level requirements, taking summer courses, graduation eligibility, and more.\", 'doc_relate': ' No, the document does not relate to the query.'}, {'url': 'https://science.ubc.ca/students/advising', 'text': \"As much as we want to help, we can't help you select a program specialization in second year, or with course selection once you're in a major. Picking a program is something you need to do on your own. Think about your interests and strengths. What career would you like to pursue? Are you passionate about one subject or a broad range of science disciplines? So go to program information sessions, workshops (such as Beyond First Year) and career expos. Your program advisor is the expert on requirements specific to your degree.\", 'doc_relate': ' No, the document does not directly relate to the query about specializations in the Faculty of Science. The document discusses general advising and program selection, but does not provide information on specific specializations.'}] \n",
      "\n",
      "answer_time: 2.8210740089416504 \n",
      "\n",
      "total_time: 4.738497495651245 \n",
      "\n"
     ]
    }
   ],
   "source": [
    "response = answer_prompt(\"What are the specializations in the Faculty of Science?\", LLAMA_3_8B)\n",
    "\n",
    "for key, value in response.items():\n",
    "    print(f\"{key}: {value} \\n\")"
   ]
  },
  {
   "cell_type": "code",
   "execution_count": null,
   "id": "4388bb05-ce3d-4665-8c36-e8b2ea9c15fa",
   "metadata": {},
   "outputs": [],
   "source": []
  }
 ],
 "metadata": {
  "kernelspec": {
   "display_name": "conda_python3",
   "language": "python",
   "name": "conda_python3"
  },
  "language_info": {
   "codemirror_mode": {
    "name": "ipython",
    "version": 3
   },
   "file_extension": ".py",
   "mimetype": "text/x-python",
   "name": "python",
   "nbconvert_exporter": "python",
   "pygments_lexer": "ipython3",
   "version": "3.10.14"
  }
 },
 "nbformat": 4,
 "nbformat_minor": 5
}
