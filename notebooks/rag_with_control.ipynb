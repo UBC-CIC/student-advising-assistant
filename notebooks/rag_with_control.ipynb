{
 "cells": [
  {
   "cell_type": "code",
   "execution_count": 73,
   "id": "092de179-543f-40cb-a5b4-7647ae41d7fe",
   "metadata": {
    "tags": []
   },
   "outputs": [
    {
     "name": "stdout",
     "output_type": "stream",
     "text": [
      "Imported and installed dependencies!\n"
     ]
    }
   ],
   "source": [
    "!pip install --quiet -U langchain langchain-community langchain-aws langchain-core\n",
    "\n",
    "import os\n",
    "import pandas as pd\n",
    "import numpy as np\n",
    "import json\n",
    "import psycopg2\n",
    "import ast\n",
    "import pgvector\n",
    "import math\n",
    "from psycopg2.extras import execute_values\n",
    "from pgvector.psycopg2 import register_vector\n",
    "import boto3\n",
    "from langchain_community.embeddings.bedrock import BedrockEmbeddings\n",
    "from langchain_aws import BedrockLLM\n",
    "import time\n",
    "\n",
    "print(\"Imported and installed dependencies!\")"
   ]
  },
  {
   "cell_type": "markdown",
   "id": "0055757e-ccd1-47c4-924b-c3cce6cf5e96",
   "metadata": {},
   "source": [
    "For now, we are going to simply read the CSV file on the server. Look at other notebook on how to get CSV file from S3 Bucket."
   ]
  },
  {
   "cell_type": "code",
   "execution_count": null,
   "id": "f43cbded-be92-47c6-a2ec-3019bfcf15b4",
   "metadata": {
    "tags": []
   },
   "outputs": [],
   "source": [
    "# Load your CSV file into a pandas DataFrame\n",
    "df = pd.read_csv('whatever-the-CSV-file-name-is.csv')\n",
    "df.head()"
   ]
  },
  {
   "cell_type": "markdown",
   "id": "2873ad0f-eb72-4c25-bcbc-3bc1f190274d",
   "metadata": {},
   "source": [
    "Need to create our own CSV file with URL and text columns only."
   ]
  },
  {
   "cell_type": "code",
   "execution_count": 4,
   "id": "6fd079d5-d4a8-4f8e-bba0-16212e6a8b27",
   "metadata": {
    "tags": []
   },
   "outputs": [
    {
     "name": "stdout",
     "output_type": "stream",
     "text": [
      "CSV file already exists at: moded.csv\n"
     ]
    }
   ],
   "source": [
    "# Select only the 'url' and 'text' columns\n",
    "selected_columns_df = df[['url', 'text']\n",
    "\n",
    "# Define the path for the new CSV file\n",
    "new_file_path = 'moded.csv'\n",
    "\n",
    "# Check if the file already exists\n",
    "if not os.path.exists(new_file_path):\n",
    "    # Save the new CSV file\n",
    "    selected_columns_df.to_csv(new_file_path, index=False)\n",
    "    print(f\"New CSV file created at: {new_file_path}\")\n",
    "else:\n",
    "    print(f\"CSV file already exists at: {new_file_path}\")"
   ]
  },
  {
   "cell_type": "markdown",
   "id": "11dbcb99-0309-4150-891c-ba0e94f96724",
   "metadata": {},
   "source": [
    "For each row of the moded.csv file, we will create vector embeddings using the Amazon Titan Embeddings model."
   ]
  },
  {
   "cell_type": "code",
   "execution_count": 5,
   "id": "b63509e9-91f0-47af-bcb5-8f7aa056a250",
   "metadata": {
    "tags": []
   },
   "outputs": [
    {
     "name": "stdout",
     "output_type": "stream",
     "text": [
      "moded_with_embeddings already exists\n"
     ]
    }
   ],
   "source": [
    "if not os.path.exists('moded_with_embeddings.csv'):\n",
    "    # Load the CSV file\n",
    "    file_path = 'moded.csv'\n",
    "    data = pd.read_csv(file_path)\n",
    "\n",
    "    # Initialize the Bedrock Embeddings model\n",
    "    embeddings = BedrockEmbeddings()\n",
    "\n",
    "    # Initialize a list to store the embeddings\n",
    "    embeddings_list = []\n",
    "\n",
    "    # Iterate over each row in the DataFrame\n",
    "    for index, row in data.iterrows():\n",
    "        text = row['text']\n",
    "        if pd.isna(text):\n",
    "            text = \" \"\n",
    "        embedding = embeddings.embed_query(text)\n",
    "        embeddings_list.append(embedding)\n",
    "        if (index + 1) % 500 == 0:\n",
    "            print(f\"Processed {index + 1}/{len(data)} rows\")\n",
    "\n",
    "    # Add the embeddings to the DataFrame\n",
    "    data['embedding'] = embeddings_list\n",
    "\n",
    "    # Save the updated DataFrame to a new CSV file\n",
    "    data.to_csv('moded_with_embeddings.csv', index=False)\n",
    "else:\n",
    "    print(\"moded_with_embeddings already exists\")"
   ]
  },
  {
   "cell_type": "markdown",
   "id": "62f92db4-b4c8-44b3-96f1-285550950d14",
   "metadata": {},
   "source": [
    "Sanity check to see if CSV file with embeddings has correct data."
   ]
  },
  {
   "cell_type": "code",
   "execution_count": 6,
   "id": "f96703df-dc22-4025-9f02-9c7598358373",
   "metadata": {
    "tags": []
   },
   "outputs": [
    {
     "name": "stdout",
     "output_type": "stream",
     "text": [
      "The number of rows in the 'moded_with_embeddings.csv' file is: 15472\n",
      "The first row in the 'moded_with_embeddings.csv' file is:\n",
      "{'url': 'https://vancouver.calendar.ubc.ca', 'text': nan, 'embedding': '[0.22460938, -0.3046875, -0.12695312, 0.27539062, 0.0021972656, -0.31835938, 0.86328125, -0.0018081665, -0.09863281, 0.13378906, 0.40625, 0.23632812, -0.19726562, 0.13378906, 0.59375, 0.46289062, 0.44726562, 0.23632812, -1.4921875, 0.5703125, 0.041015625, 0.04272461, -0.009643555, 0.95703125, -0.33398438, -0.30078125, -0.7578125, -0.6484375, -0.6953125, -0.33984375, -0.3515625, 0.51171875, 0.09765625, -0.70703125, 0.27929688, 0.10205078, -0.1875, -0.79296875, 0.16894531, -0.62109375, -0.22851562, 0.1640625, 0.21777344, -0.68359375, 0.17773438, 0.6640625, -0.6328125, 1.421875, 1.0234375, -0.32421875, -0.2109375, -0.5546875, -0.80078125, 0.78515625, 0.42578125, 0.03515625, 0.28320312, 0.9375, 1.2890625, -0.068847656, -0.5078125, 0.47851562, 0.068847656, 0.65625, 0.025878906, 0.14746094, 0.92578125, 0.74609375, 0.96875, 0.025390625, 0.515625, 1.625, -0.8125, -0.61328125, -0.265625, -1.265625, 0.5390625, -0.37109375, -0.95703125, 0.34765625, 0.34765625, 0.19042969, 0.1953125, -0.66015625, 0.88671875, -0.515625, 0.03149414, -0.41015625, 0.00010681152, 0.45507812, 0.24121094, -0.37890625, 0.5625, -1.09375, -0.17089844, 0.640625, 0.30078125, -0.15820312, -0.8125, 0.640625, -0.33398438, 0.17773438, 0.7109375, -0.48242188, 0.9609375, -0.059326172, 0.49414062, -0.96875, -0.8359375, -0.043945312, 0.40429688, 0.16503906, 0.40039062, -0.17871094, -0.16601562, 0.27734375, -1.0546875, 0.40429688, -0.85546875, 0.26757812, -0.37109375, -0.46679688, 0.6640625, 0.0078125, -0.084472656, 0.3359375, -0.73046875, 0.18066406, 0.54296875, 0.52734375, 0.94140625, 1.0, -0.0037994385, 0.35546875, -0.17285156, -1.1484375, -0.18457031, 0.06225586, 1.078125, 0.026123047, 0.2265625, -0.08300781, 0.921875, -0.15527344, -0.4765625, -0.14550781, -0.6796875, -0.38671875, -0.4609375, -0.6484375, 0.3984375, 1.1640625, 0.12695312, 1.21875, -0.20605469, 0.29101562, 0.45117188, -0.44335938, -0.5546875, -0.50390625, -0.09765625, -1.1015625, 1.421875, 0.703125, -0.48828125, 0.1875, 0.18359375, 0.014099121, -0.45507812, -0.53515625, -0.39257812, 0.453125, -0.37109375, 0.13085938, 0.8359375, 0.6171875, -1.4140625, -0.890625, 1.5234375, 0.37109375, 0.5859375, -0.47460938, -0.67578125, 0.35742188, 0.24609375, -1.2734375, 0.546875, -0.38476562, -0.048828125, -0.45117188, 0.17089844, 0.359375, -0.12597656, 0.42773438, 0.23144531, 1.4921875, -0.73828125, 0.859375, 0.28710938, -0.40234375, -0.98828125, -0.69140625, 1.125, -0.7578125, 0.2890625, 0.17089844, -0.80859375, 0.22558594, 0.17480469, 0.58984375, -0.0703125, 0.12402344, 0.25, 0.6484375, -0.2578125, 0.7734375, -0.38476562, -1.265625, 0.32226562, -0.41015625, 0.29882812, 1.125, -0.65625, 0.5625, 0.080078125, -0.484375, -1.390625, -0.37695312, 0.24707031, -0.25390625, 0.15332031, -0.12988281, 0.32226562, -0.26171875, -0.71484375, 0.28515625, -0.17089844, 0.79296875, -1.3203125, -0.8046875, -0.09472656, 0.31640625, -0.65625, 0.22363281, 0.96484375, 1.2578125, -0.71875, -0.09716797, -0.8203125, 0.609375, -0.15527344, 0.16894531, -0.28125, 0.16015625, -0.265625, -0.66015625, 0.9296875, -0.390625, -1.046875, 0.4609375, -0.1640625, 0.5859375, -0.94140625, -0.24902344, -0.35742188, -0.075683594, 0.104003906, -0.5, 0.41601562, 0.7734375, 7.534027e-05, 0.84765625, -0.29882812, -1.171875, 1.140625, 0.6328125, 1.03125, 0.055664062, -0.1484375, -0.5, 0.59375, -1.03125, -0.2109375, 0.024780273, -0.56640625, 1.28125, -0.859375, -0.90234375, -0.265625, -0.46484375, -0.22460938, -0.44921875, 0.095703125, -0.28515625, 0.43164062, -1.046875, -0.625, -0.18847656, -0.35351562, 0.67578125, -1.453125, 0.6484375, 1.7109375, 0.37695312, -0.12890625, -0.08642578, -0.12597656, 0.47460938, -0.43359375, -0.09472656, 1.578125, 0.76171875, 0.4921875, 0.890625, 0.80078125, 0.59765625, -0.875, -0.8046875, -0.2421875, 0.016967773, 0.41601562, -0.80859375, 0.35351562, -0.115722656, -1.1015625, -0.7109375, -0.5390625, 0.34570312, -0.4921875, -0.98046875, 0.64453125, 0.7734375, -0.024780273, -0.4296875, -0.59765625, -0.765625, -0.4375, 0.37304688, 0.08105469, -0.03491211, 1.140625, -0.234375, 0.21289062, 0.21484375, 0.52734375, -0.026367188, 0.13867188, -0.28515625, 0.37304688, 0.86328125, -0.62890625, 0.37890625, -0.20996094, -0.009338379, -1.46875, 0.24902344, 0.09082031, -0.75, 0.25976562, 0.028930664, -1.15625, 0.0859375, -0.0005722046, 0.2734375, 0.15527344, -0.8359375, -1.1328125, -0.043701172, 0.018432617, -0.67578125, 0.19140625, -1.7734375, -0.640625, 0.61328125, 0.609375, 1.328125, -0.33789062, -0.28125, 0.921875, 0.78515625, 0.36132812, -0.061523438, 0.23339844, 1.4375, -0.44726562, 0.052246094, -0.5078125, -0.13769531, 0.033935547, 0.921875, -0.1953125, -0.94140625, -0.734375, 1.28125, -0.6875, 0.8828125, 0.04248047, 0.50390625, 1.0078125, 0.26953125, -1.0234375, 0.012023926, -0.75, -0.55859375, 0.57421875, 0.09814453, 0.1484375, 0.21386719, 0.61328125, -0.033447266, 0.78125, -0.1875, -0.21484375, 1.6171875, -0.13964844, 0.9375, 0.5625, 0.5703125, 0.040771484, -0.92578125, -0.26367188, 0.6171875, -0.24316406, 0.5703125, 0.078125, -0.7421875, 0.7421875, 0.41210938, 0.001739502, -1.234375, -0.012634277, -0.4609375, 0.4765625, -1.0703125, -0.3515625, -0.010253906, 0.32421875, -0.013183594, -0.7734375, -0.78125, -0.04711914, -1.1328125, -0.0037384033, -0.55078125, 0.17480469, -1.0859375, -0.25195312, -0.30273438, -0.49609375, -0.32226562, -0.100097656, 0.0154418945, -0.16796875, 0.65625, 0.63671875, -0.61328125, 0.64453125, -0.23242188, -0.22558594, 0.42578125, 0.48242188, 0.3359375, 0.6171875, -0.4375, 0.70703125, -0.796875, -1.640625, 0.984375, 0.66015625, 1.109375, 0.89453125, -0.05419922, -0.8671875, -0.052246094, 1.09375, 0.671875, 0.515625, 0.36328125, 0.37695312, -0.390625, 0.060058594, 0.16113281, -0.40429688, -0.21191406, 0.14550781, 0.38867188, -0.0023956299, 0.20800781, 0.71875, 0.75390625, 0.29101562, -1.046875, 0.4609375, -0.55859375, 0.07470703, 0.265625, 0.0014266968, 0.44726562, 0.17871094, 1.0078125, -0.09667969, -0.640625, -0.16015625, -1.7890625, -0.5390625, 0.47851562, 0.0069274902, -1.3828125, 0.10986328, -0.57421875, -0.234375, -0.30273438, -0.890625, -0.25390625, -0.23144531, -1.015625, -1.34375, -0.60546875, -1.2265625, 0.5859375, 0.5703125, 0.11230469, -0.28320312, -0.8828125, 0.107421875, -0.578125, -0.021118164, -0.8828125, 0.47851562, 0.10253906, -1.015625, 0.26171875, 0.0007324219, -0.546875, 0.22070312, 0.29882812, 0.32421875, 0.48632812, 1.1640625, -0.32421875, -1.21875, 0.55078125, 1.4453125, 0.59765625, 0.3984375, -0.03881836, -0.018066406, 1.1015625, -0.004272461, 0.09814453, -0.76171875, -1.6015625, 0.11621094, 0.19042969, -0.4609375, -0.859375, 0.74609375, 0.15429688, 0.11230469, 1.46875, 0.24511719, -0.17578125, -0.9765625, -0.3125, 1.171875, -0.98828125, -0.4296875, -0.24414062, 0.91015625, -0.7578125, -0.8203125, -0.81640625, 0.33789062, -0.44726562, 0.5234375, -1.2109375, 0.41015625, -0.10107422, 0.068847656, 0.088378906, 0.10644531, -0.18945312, 1.296875, 0.28320312, -0.80078125, 0.41796875, 0.49609375, -0.58984375, 0.028930664, 0.96484375, 0.546875, 0.17285156, 0.061767578, -1.4140625, 0.36328125, -1.0703125, 0.5390625, 0.609375, -0.984375, -0.17089844, -0.8125, 0.01940918, 0.90625, 0.39257812, -0.21972656, 0.15332031, -0.45117188, -0.024780273, -0.07714844, 0.3828125, 0.119628906, -0.059326172, 0.037109375, -0.9140625, 0.15429688, -0.26953125, 0.6328125, -0.05859375, -0.734375, -0.80078125, 0.07470703, 1.0625, 0.13183594, -0.18652344, 0.74609375, 0.16601562, 0.47070312, -0.6640625, -0.45703125, 1.4921875, 0.65234375, -1.3515625, -0.00019550323, -0.6640625, 0.33789062, -0.80859375, 0.609375, 0.12207031, -0.24804688, -0.076171875, 0.07421875, 0.31835938, 0.35546875, 0.703125, -0.21386719, -1.0625, 0.22460938, 0.61328125, 0.83203125, -0.18652344, -1.046875, -0.296875, 0.55078125, 0.21679688, -0.359375, -0.74609375, 0.4140625, 0.27539062, 0.37890625, -0.6015625, -1.1953125, -0.18359375, -0.5078125, -0.03564453, 0.50390625, -0.60546875, 0.58203125, -0.18066406, 0.61328125, -0.4375, 0.78515625, -0.44726562, -0.052490234, -0.006713867, 1.2578125, -0.43554688, -0.16992188, 0.11669922, 0.17773438, 0.23046875, 1.3828125, 0.1796875, -0.55078125, -0.004699707, 0.07128906, -0.59765625, 0.6875, -0.5, -0.053222656, 0.2578125, 0.75390625, 0.12597656, -0.64453125, 0.62890625, 1.21875, 0.07421875, 0.35546875, -0.39648438, 0.68359375, 1.390625, -0.09667969, -0.32617188, 1.0625, -0.25976562, 0.90625, 0.22167969, -0.48828125, 0.12451172, 0.13964844, 0.18652344, 0.8046875, 0.24804688, -0.59375, -0.49804688, -0.43945312, 1.1171875, -0.06933594, -0.053222656, 0.515625, -1.046875, -0.58203125, 0.13964844, 0.057861328, -0.53125, -0.5078125, -0.044677734, -0.75390625, -0.3515625, -0.12695312, -0.3046875, 0.453125, -1.1875, 0.89453125, -0.21289062, -0.25390625, 0.22167969, -0.76171875, 1.1796875, 0.63671875, 0.16699219, -0.5390625, -0.69921875, 0.3515625, -0.46679688, -1.625, 0.37109375, 0.100097656, 0.9375, 0.14550781, -1.0078125, 0.24414062, 0.5625, -0.796875, 0.64453125, -0.39257812, -0.15527344, -0.20605469, -0.8828125, 0.39257812, -1.0390625, 0.123535156, 0.56640625, 0.72265625, 0.45898438, 0.55859375, 0.34765625, -0.20605469, -0.43554688, 1.421875, -1.0703125, -0.40429688, 0.51953125, -1.09375, 0.5078125, 0.2890625, 0.31640625, 0.068847656, 0.27539062, -0.5, 0.029785156, -1.1015625, 0.38671875, -1.3984375, -0.22265625, -0.03173828, 0.19042969, 0.765625, 1.0078125, 0.42578125, -0.6484375, 1.0546875, 0.80859375, 0.49804688, -0.55859375, -0.64453125, 0.49414062, -0.46679688, 0.63671875, 0.7421875, 0.44921875, 0.041503906, -0.07324219, -0.15625, -0.33789062, 1.0390625, -0.91015625, -0.21777344, -0.72265625, -0.34570312, -0.060302734, -0.011352539, -1.09375, -0.3515625, 1.109375, 0.07421875, -0.8125, -0.15625, -1.0, 1.3984375, 0.4609375, 0.29882812, 0.59765625, -0.26757812, -0.21777344, 0.71875, -0.0019454956, 0.76171875, -0.46875, 0.13378906, -0.3359375, -0.4375, 1.3359375, -0.030029297, -0.98046875, 1.1953125, -0.6484375, -0.37890625, 0.51953125, -0.796875, -0.09277344, 0.76953125, 1.15625, 0.7265625, 1.3203125, 0.78125, -0.6484375, 0.54296875, 0.421875, 0.53515625, 0.5546875, -0.97265625, -0.40625, 0.36328125, -0.6640625, -1.0234375, -0.82421875, 0.1953125, 1.109375, 1.1484375, 0.8515625, -0.88671875, 1.4140625, 0.60546875, -0.03173828, 0.11376953, -1.078125, 1.7578125, 0.65234375, -0.7109375, -0.63671875, 1.1953125, -0.052490234, -0.92578125, -0.71875, 0.7578125, 0.6640625, -0.4296875, 0.47851562, -0.19921875, -0.73828125, -0.18945312, -0.8125, 0.52734375, 0.68359375, 0.2890625, -0.29296875, -0.47460938, -0.09667969, 0.9921875, -0.70703125, -0.1328125, 0.56640625, 0.80078125, -0.890625, -0.43945312, 1.109375, -0.14453125, -0.640625, 0.42578125, 0.0062561035, 0.125, -0.09375, -0.05078125, 0.82421875, -0.17871094, -0.8671875, -0.7421875, -1.25, 0.38671875, -0.057373047, 0.37695312, -0.203125, -0.49609375, 0.27148438, 0.5859375, 0.12695312, -1.5390625, 1.3046875, 1.671875, -0.546875, -0.29101562, -0.390625, -1.5546875, -0.39453125, -0.140625, -0.3359375, -0.453125, 0.8828125, -0.16601562, -0.15625, 0.24902344, 0.42773438, -1.0390625, 0.40429688, 0.9609375, -0.021606445, -0.33398438, 0.43359375, 0.4609375, 0.2421875, 0.57421875, -0.0016021729, -0.7421875, -0.13574219, 0.5, 0.66015625, 0.73046875, -0.16015625, 0.64453125, -0.4140625, 0.984375, 0.22558594, -0.421875, -0.006378174, -0.36132812, 0.91015625, -0.48632812, 0.068847656, -0.515625, 0.38085938, -0.78125, 0.40820312, 0.09277344, 0.14453125, 0.36328125, -0.31835938, 0.625, -0.91796875, 0.1640625, 0.9140625, 0.296875, 0.47070312, 0.041992188, 0.5078125, -0.19726562, 0.16308594, -0.52734375, -0.26757812, -0.76953125, -0.75390625, -1.125, 2.015625, -0.40039062, -0.20605469, -0.13671875, -1.71875, 0.39648438, -1.0390625, -0.103515625, 0.4765625, -0.16015625, -0.82421875, -0.5625, 0.45703125, 0.41796875, -0.36328125, -0.40820312, 0.32421875, -0.26171875, -0.38671875, -0.109375, -0.65234375, 0.10644531, -0.14648438, -0.24511719, 0.13671875, 0.19628906, 1.40625, 0.33398438, -0.28515625, 0.42382812, 1.5234375, 0.92578125, -0.30078125, -0.9296875, 0.45117188, -0.86328125, 0.36523438, 0.3203125, 0.08203125, 0.08935547, -0.296875, 1.328125, 0.56640625, 0.19921875, -0.118652344, -0.2578125, 0.12988281, 0.6015625, -0.625, -1.828125, -1.3515625, -0.48242188, -1.203125, -0.44335938, -0.4453125, 0.60546875, -0.6171875, 0.34960938, -0.06982422, 1.2109375, 0.045166016, 0.012329102, 0.546875, -0.67578125, -0.30859375, -0.26367188, 1.1328125, -0.0077819824, -0.03125, -0.94140625, 0.55078125, -1.171875, -0.92578125, -0.69140625, 0.734375, 1.21875, -1.0078125, -0.296875, -0.5390625, 0.48632812, 0.59375, -0.453125, -0.15429688, 0.8984375, -0.18066406, 1.5859375, -0.35351562, -0.72265625, -0.34960938, 0.85546875, -0.020874023, 0.0047302246, 0.4609375, -0.69140625, 0.5, -0.1875, -0.1015625, -0.359375, -1.15625, -0.29882812, 0.8515625, 0.25195312, 0.18847656, 0.9921875, 0.083984375, 0.859375, -0.18457031, -0.06591797, -0.18359375, 0.20507812, -0.74609375, -0.031982422, 0.23730469, -0.016601562, 1.109375, 0.02331543, 0.012207031, -0.515625, 0.123046875, 1.03125, 0.091308594, 0.3125, 0.52734375, -0.11816406, -0.27734375, 0.63671875, -0.71875, -0.23828125, 0.37695312, 0.08642578, 0.61328125, 0.091308594, -0.27148438, -0.095214844, -0.2421875, -0.65234375, -0.46484375, 1.0859375, -0.06933594, -0.296875, -0.85546875, 0.89453125, 0.8515625, 0.2421875, 0.18554688, 0.8515625, -0.58203125, -0.39257812, -0.110839844, -0.37109375, 1.0234375, 0.23046875, -0.03955078, 0.8203125, -0.06591797, -1.515625, -0.41601562, -0.19238281, -1.71875, 0.43164062, -0.72265625, 1.5, 0.45898438, 0.27539062, 0.44921875, 0.828125, 0.52734375, 0.87890625, -0.14941406, 0.40039062, -0.025024414, 0.008239746, -0.111328125, 0.0069274902, 1.78125, 0.98828125, -0.53515625, -0.75390625, 1.0546875, 1.125, -0.95703125, 0.36132812, 0.40234375, 0.9609375, -0.45507812, -0.46875, -1.2109375, -0.671875, 0.75390625, 0.31835938, -0.9140625, -0.67578125, 0.31445312, 0.06542969, 0.6953125, 0.021484375, 0.49804688, -0.36132812, -0.5234375, 0.62109375, 1.2265625, -0.953125, 0.34765625, -0.28710938, 0.16210938, 0.4140625, -0.7109375, 0.84375, -0.36914062, 0.4140625, -0.20996094, -0.0047302246, -0.1015625, -0.29492188, -0.16308594, 0.6875, -0.055419922, -0.2109375, 0.7734375, 0.640625, 0.828125, 0.78515625, 0.27539062, -0.003326416, 1.3046875, 0.984375, -0.42578125, -1.484375, -0.23828125, -0.96484375, -1.1796875, 0.17773438, -0.86328125, 1.1875, 0.03491211, -0.88671875, 0.41992188, 0.3125, 0.8359375, 1.1484375, 0.68359375, 1.4296875, 0.045654297, 0.82421875, -0.33789062, -0.13671875, 0.087402344, -0.08154297, 0.80078125, 1.25, 0.019897461, 0.14550781, 0.20605469, -1.2578125, 0.29492188, -0.067871094, 0.041259766, 0.6484375, 0.5546875, 1.03125, 0.09423828, 0.21582031, 0.4296875, -0.54296875, -0.026733398, 0.38085938, 1.765625, 0.47460938, -0.3046875, -0.30273438, 0.88671875, 0.056396484, 0.6015625, -1.34375, -0.9375, -0.10644531, 0.67578125, 0.30859375, -0.14648438, -0.59375, 0.48242188, 0.328125, -0.0546875, -0.26171875, 0.65234375, 0.671875, -0.4375, -0.5703125, 0.88671875, 0.453125, 0.028930664, 0.27148438, 0.7265625, 0.16992188, -0.91796875, -0.640625, -0.625, 0.043945312, 0.25976562, 0.5703125, 0.24804688, 0.24316406, -0.029052734, -0.50390625, 0.1953125, -0.1796875, 0.828125, -0.65625, 0.43164062, -0.0062561035, 0.40820312, -0.765625, -1.3359375, -0.6953125, -0.8671875, 0.59765625, -0.8359375, -0.50390625, -0.84375, -0.19824219, 0.107421875, 0.21191406, -0.15136719, -0.78125, -1.0234375, -0.5234375, 0.44140625, -1.1953125, -0.072753906, 0.46289062, -0.22558594, -1.109375, -0.3515625, -0.37890625, -1.4296875, -0.06689453, 1.03125, -1.0859375, -0.0859375, -0.97265625, 0.33007812, 0.44335938, -0.09863281, -0.18164062, 0.66796875, 0.23046875, -0.032226562, 0.16601562, 0.57421875, 0.36523438, -0.49023438, -1.0234375, 0.81640625, -1.6640625, -0.36328125, 0.51171875, 0.6875, -0.53515625, -0.17089844, -0.12597656, 1.1875, -0.43164062, 0.22265625, -0.22460938, 1.3125, 0.52734375, -0.125, 0.4921875, -0.49023438, -0.55859375, 0.20507812, -0.875, 0.083496094, 0.74609375, -0.24121094, -0.20898438, -1.3046875, 0.6015625, -0.44726562, 0.39453125, -0.7109375, -0.33789062, -0.1640625, -0.81640625, 0.007446289, 0.31054688, 0.36914062, -0.95703125, 0.25, 0.35546875, 0.08886719, -0.23632812, 0.984375, 0.359375, -0.21875, 0.12158203, -0.25, -0.66796875, 0.66015625, 0.36328125, -0.23828125, -0.21386719, 0.6328125, -0.73828125, -0.546875, -0.4921875, -0.59375, 0.06542969, -0.47265625, 0.36132812, -0.26367188, 0.17382812, -0.43554688, -0.640625, -1.3125, 0.5546875, 0.33789062, 0.14550781, -0.4609375, -0.076660156, 0.99609375, -0.78515625, -0.15234375, -0.3359375, 0.57421875, 0.54296875, 0.24804688, 0.061523438, -0.016235352, -0.44140625, 0.41601562, -0.41015625, 0.35742188, -0.71875, 0.55859375, 0.103515625, -0.020141602, 0.31445312, 1.2578125, 0.17675781, 0.90234375, -0.18359375, -0.021972656, -0.28515625, -0.71875, 0.13574219, 0.12695312, -0.28710938, -0.73046875, 0.59765625, 1.3046875, 0.37890625, 0.5859375, 0.6015625, 0.4609375, -0.036376953, -0.25976562, 0.36523438, -0.703125, -0.18359375, -0.83984375, 0.84375, -1.46875, -0.22167969, -0.328125, -0.045166016, -0.60546875, 0.03540039, -0.17773438, 0.421875, 0.17285156, 0.96875, 0.6015625, -0.021972656, -0.52734375, -0.52734375, 0.33203125, 0.17480469, 0.6328125, -0.8203125, -0.3671875, 0.17871094, 0.828125, 0.34570312, 0.080566406, -0.58203125, -0.61328125, 0.3515625, 0.296875, -0.63671875, -0.3359375, -0.05053711, 0.49414062, 0.7890625, 1.09375, 0.47070312, 1.1015625, -0.24707031, -0.30078125, -0.03149414, 0.65625, -0.80078125, -0.05029297, -0.7578125, -0.640625, 0.22753906, 0.51171875, 0.62890625, 0.19140625, 0.083496094, 0.13964844, 0.21582031, 0.46679688, 0.08544922, -0.36132812, 0.85546875, 0.69921875, 0.53515625, -0.1015625, 0.34765625, -1.3125, -0.48242188, -0.7265625, 0.24707031, -0.71875, 0.27929688, -0.75, 0.9453125, -0.47460938, -0.103515625, 0.671875, -0.18359375, 1.0546875, 0.6640625, 0.4921875, -0.81640625, -0.75, -0.18945312, 0.24804688, 0.09326172, -1.25, 0.60546875, 0.20605469, 0.97265625, 0.27539062, -0.33789062, -0.53125, -0.37304688, -0.33984375, -0.65625, -0.026611328, 0.36328125, 0.057128906, 0.13769531, -1.0390625]'}\n"
     ]
    }
   ],
   "source": [
    "# Load the CSV file with embeddings\n",
    "file_path_with_embeddings = 'moded_with_embeddings.csv'\n",
    "data_with_embeddings = pd.read_csv(file_path_with_embeddings)\n",
    "\n",
    "# Perform the sanity check to count the number of rows\n",
    "number_of_rows = len(data_with_embeddings)\n",
    "\n",
    "print(f\"The number of rows in the 'moded_with_embeddings.csv' file is: {number_of_rows}\")\n",
    "\n",
    "# Print the first row of the CSV file\n",
    "first_row = data_with_embeddings.iloc[0]\n",
    "print(\"The first row in the 'moded_with_embeddings.csv' file is:\")\n",
    "print(first_row.to_dict())"
   ]
  },
  {
   "cell_type": "markdown",
   "id": "9dc3dccf-1311-4401-9c60-88ecd731b9b9",
   "metadata": {},
   "source": [
    "Connect to RDS instance and install vector extension if not already there."
   ]
  },
  {
   "cell_type": "code",
   "execution_count": null,
   "id": "1df89308-971e-4aae-9b31-94a5d903af8b",
   "metadata": {
    "tags": []
   },
   "outputs": [],
   "source": [
    "# Define the connection parameters\n",
    "connection_params = {\n",
    "    \"your-database-parameters\"\n",
    "}\n",
    "\n",
    "# Create the connection string\n",
    "connection_string = \" \".join([f\"{key}={value}\" for key, value in connection_params.items()])\n",
    "\n",
    "print(\"Connection string:\", connection_string)\n",
    "\n",
    "# Connect to PostgreSQL database in Timescale using connection string\n",
    "conn = psycopg2.connect(connection_string)\n",
    "cur = conn.cursor()\n",
    "\n",
    "#install pgvector\n",
    "cur.execute(\"CREATE EXTENSION IF NOT EXISTS vector\");\n",
    "conn.commit()\n",
    "\n",
    "print(\"Connected to RDS instance!\")"
   ]
  },
  {
   "cell_type": "markdown",
   "id": "39d05663-9c20-42f3-8b4b-2f383d14485e",
   "metadata": {},
   "source": [
    "Registers the vector type with psycopg2, enabling the handling of vector data types within Python."
   ]
  },
  {
   "cell_type": "code",
   "execution_count": 8,
   "id": "548ada98-4789-453b-9194-365558f89ab6",
   "metadata": {
    "tags": []
   },
   "outputs": [],
   "source": [
    "# Register the vector type with psycopg2\n",
    "register_vector(conn)"
   ]
  },
  {
   "cell_type": "markdown",
   "id": "ebd234fe-226a-470d-b22b-3a24e8af5b99",
   "metadata": {},
   "source": [
    "Create our vector table."
   ]
  },
  {
   "cell_type": "code",
   "execution_count": 9,
   "id": "ab4dc1b8-6aad-4092-9438-91e3fee4d113",
   "metadata": {
    "tags": []
   },
   "outputs": [],
   "source": [
    "# Create table to store embeddings and metadata\n",
    "table_create_command = \"\"\"\n",
    "CREATE TABLE IF NOT EXISTS test_embeddings (\n",
    "            id bigserial primary key,\n",
    "            url text,\n",
    "            text text,\n",
    "            embedding vector(1536)\n",
    "            );\n",
    "            \"\"\"\n",
    "\n",
    "cur.execute(table_create_command)\n",
    "cur.close()\n",
    "conn.commit()"
   ]
  },
  {
   "cell_type": "markdown",
   "id": "6a1ae966-99d0-42d4-a6a6-91db8b4671d0",
   "metadata": {},
   "source": [
    "Populate test_embeddings table."
   ]
  },
  {
   "cell_type": "code",
   "execution_count": 10,
   "id": "82667d8d-fcab-4e65-b0ad-16d8b4937808",
   "metadata": {
    "tags": []
   },
   "outputs": [
    {
     "name": "stdout",
     "output_type": "stream",
     "text": [
      "Loading the CSV file...\n",
      "The type of the embedding column is: <class 'str'>\n",
      "Converting the embedding column to numpy arrays...\n",
      "Conversion complete.\n",
      "The first row after converting the 'embedding' column:\n",
      "{'url': 'https://vancouver.calendar.ubc.ca', 'text': nan, 'embedding': array([ 0.22460938, -0.3046875 , -0.12695312, ...,  0.05712891,\n",
      "        0.13769531, -1.0390625 ])}\n",
      "Preparing the list of tuples for insertion...\n",
      "Preparation complete.\n",
      "Performing batch insertion...\n",
      "Committing the transaction...\n",
      "Batch insertion complete!\n"
     ]
    }
   ],
   "source": [
    "# Load the CSV file with embeddings\n",
    "print(\"Loading the CSV file...\")\n",
    "file_path_with_embeddings = 'moded_with_embeddings.csv'\n",
    "data_with_embeddings = pd.read_csv(file_path_with_embeddings)\n",
    "\n",
    "# Check the type of the embedding column\n",
    "embedding_type = type(first_row['embedding'])\n",
    "print(f\"The type of the embedding column is: {embedding_type}\")\n",
    "\n",
    "# Function to convert string representation of list to numpy array\n",
    "def parse_embedding(embedding_str):\n",
    "    return np.array(eval(embedding_str))\n",
    "\n",
    "# Apply the function to the embedding column if it's a string\n",
    "if isinstance(first_row['embedding'], str):\n",
    "    print(\"Converting the embedding column to numpy arrays...\")\n",
    "    data_with_embeddings['embedding'] = data_with_embeddings['embedding'].apply(parse_embedding)\n",
    "    print(\"Conversion complete.\")\n",
    "else:\n",
    "    print(\"Embeddings are not strings, they are a list of floats\")\n",
    "\n",
    "# Verify the conversion\n",
    "first_row_converted = data_with_embeddings.iloc[0]\n",
    "print(\"The first row after converting the 'embedding' column:\")\n",
    "print(first_row_converted.to_dict())\n",
    "\n",
    "# Prepare the list of tuples to insert\n",
    "print(\"Preparing the list of tuples for insertion...\")\n",
    "data_list = [(row['url'], row['text'], row['embedding']) for index, row in data_with_embeddings.iterrows()]\n",
    "print(\"Preparation complete.\")\n",
    "\n",
    "# Use execute_values to perform batch insertion\n",
    "print(\"Performing batch insertion...\")\n",
    "cur = conn.cursor()\n",
    "execute_values(cur, \"INSERT INTO test_embeddings (url, text, embedding) VALUES %s\", data_list)\n",
    "\n",
    "# Commit after we insert all embeddings\n",
    "print(\"Committing the transaction...\")\n",
    "conn.commit()\n",
    "\n",
    "print(\"Batch insertion complete!\")"
   ]
  },
  {
   "cell_type": "markdown",
   "id": "87c3c52a-dd5d-400d-938c-a9e5c855546b",
   "metadata": {},
   "source": [
    "Perform sanity checks on embeddings table."
   ]
  },
  {
   "cell_type": "code",
   "execution_count": 107,
   "id": "e7493959-c29b-4ab0-aafd-fcbceb96c3ff",
   "metadata": {},
   "outputs": [
    {
     "name": "stdout",
     "output_type": "stream",
     "text": [
      "Number of vector records in table:  15472 \n",
      "\n"
     ]
    }
   ],
   "source": [
    "cur = conn.cursor()\n",
    "num_records = 0\n",
    "try:\n",
    "    cur.execute(\"SELECT COUNT(*) as cnt FROM test_embeddings;\")\n",
    "    num_records = cur.fetchone()[0]\n",
    "    print(\"Number of vector records in table: \", num_records,\"\\n\")\n",
    "except:\n",
    "    print(\"Error when counting number of rows in embeddings table!\")\n",
    "    conn.rollback()\n",
    "finally:\n",
    "    cur.close()"
   ]
  },
  {
   "cell_type": "code",
   "execution_count": 108,
   "id": "28a3eee9-dc25-4065-8aff-45c0086b2410",
   "metadata": {
    "tags": []
   },
   "outputs": [
    {
     "name": "stdout",
     "output_type": "stream",
     "text": [
      "First record in table:  [(1, 'https://vancouver.calendar.ubc.ca', 'NaN', array([ 0.22460938, -0.3046875 , -0.12695312, ...,  0.05712891,\n",
      "        0.13769531, -1.0390625 ], dtype=float32))]\n"
     ]
    }
   ],
   "source": [
    "cur = conn.cursor()\n",
    "try:\n",
    "    # print the first record in the table, for sanity-checking\n",
    "    cur.execute(\"SELECT * FROM test_embeddings LIMIT 1;\")\n",
    "    records = cur.fetchall()\n",
    "    print(\"First record in table: \", records)\n",
    "except:\n",
    "    print(\"Error when printing first row in embeddings table!\")\n",
    "    conn.rollback()\n",
    "finally:\n",
    "    cur.close()"
   ]
  },
  {
   "cell_type": "markdown",
   "id": "3f750a79-6854-476c-966e-b7a3efeaca19",
   "metadata": {},
   "source": [
    "Apply Indexing"
   ]
  },
  {
   "cell_type": "code",
   "execution_count": 135,
   "id": "ef2c2d50-f3af-4daf-8a29-f1de243e82fa",
   "metadata": {
    "tags": []
   },
   "outputs": [
    {
     "name": "stdout",
     "output_type": "stream",
     "text": [
      "Dropped existing indexes on embedding column!\n",
      "Created Index!\n"
     ]
    }
   ],
   "source": [
    "# Drops existing indexes on the embedding column\n",
    "def drop_existing_indexes():\n",
    "    try:\n",
    "        cur = conn.cursor()\n",
    "        cur.execute(\"\"\"\n",
    "            SELECT indexname \n",
    "            FROM pg_indexes \n",
    "            WHERE tablename = 'test_embeddings' \n",
    "            AND indexdef LIKE '%embedding%' \n",
    "            AND indexdef NOT LIKE '%pkey%';\n",
    "        \"\"\")\n",
    "        indexes = cur.fetchall()\n",
    "        for index in indexes:\n",
    "            cur.execute(f\"DROP INDEX IF EXISTS {index[0]};\")\n",
    "        conn.commit()\n",
    "        print(\"Dropped existing indexes on embedding column!\")\n",
    "    except Exception as e:\n",
    "        print(\"Error dropping existing indexes:\", e)\n",
    "        conn.rollback()\n",
    "    finally:\n",
    "        cur.close()\n",
    "\n",
    "# Create an index on the data for faster retrieval\n",
    "def create_index(index_method, distance_measure):\n",
    "    drop_existing_indexes()\n",
    "    try:\n",
    "        cur = conn.cursor()\n",
    "        if index_method == 'hnsw':\n",
    "            cur.execute(f'CREATE INDEX ON test_embeddings USING hnsw (embedding {distance_measure})')\n",
    "        elif index_method == 'ivfflat':\n",
    "            num_lists = num_records / 1000\n",
    "            if num_lists < 10:\n",
    "                num_lists = 10\n",
    "            if num_records > 1000000:\n",
    "                num_lists = math.sqrt(num_records)\n",
    "\n",
    "            cur.execute(f'CREATE INDEX ON test_embeddings USING ivfflat (embedding {distance_measure}) WITH (lists = {num_lists});')\n",
    "\n",
    "        conn.commit()\n",
    "        print(\"Created Index!\")\n",
    "    except:\n",
    "        print(\"Error when indexing embeddings table!\")\n",
    "        conn.rollback()\n",
    "    finally:\n",
    "        cur.close()\n",
    "\n",
    "create_index('hnsw', 'vector_l2_ops')"
   ]
  },
  {
   "cell_type": "markdown",
   "id": "542caf34-915e-42ae-9160-45b456df6b28",
   "metadata": {},
   "source": [
    "Sanity Check to see if index is on embeddings table."
   ]
  },
  {
   "cell_type": "code",
   "execution_count": 136,
   "id": "ab888703-33bd-40a4-94a8-2752ce35f099",
   "metadata": {
    "tags": []
   },
   "outputs": [
    {
     "name": "stdout",
     "output_type": "stream",
     "text": [
      "Indexes on test_embeddings table:\n",
      "test_embeddings_embedding_idx\n",
      "test_embeddings_pkey\n"
     ]
    }
   ],
   "source": [
    "# Perform sanity check to print all indexes on test_embeddings\n",
    "try:\n",
    "    cur = conn.cursor()\n",
    "    cur.execute(\"SELECT indexname FROM pg_indexes WHERE tablename = 'test_embeddings';\")\n",
    "    indexes = cur.fetchall()\n",
    "    print(\"Indexes on test_embeddings table:\")\n",
    "    for index in indexes:\n",
    "        print(index[0])\n",
    "except Exception as e:\n",
    "    print(\"Error during sanity check:\", e)\n",
    "finally:\n",
    "    cur.close()"
   ]
  },
  {
   "cell_type": "markdown",
   "id": "136498df-f1bf-4f65-900f-61ed58a45f8f",
   "metadata": {},
   "source": [
    "Sanity Check to see details of index on embeddings table."
   ]
  },
  {
   "cell_type": "code",
   "execution_count": 140,
   "id": "b83970c1-bc24-4681-b973-b6d235f3ae5e",
   "metadata": {
    "tags": []
   },
   "outputs": [
    {
     "name": "stdout",
     "output_type": "stream",
     "text": [
      "Details of index 'test_embeddings_embedding_idx':\n",
      "Index Name: test_embeddings_embedding_idx\n",
      "Index Definition: CREATE INDEX test_embeddings_embedding_idx ON public.test_embeddings USING hnsw (embedding vector_l2_ops)\n"
     ]
    }
   ],
   "source": [
    "# Function to get details of an index\n",
    "def get_index_details(index_name):\n",
    "    index_details_query = f\"\"\"\n",
    "    SELECT indexname, indexdef\n",
    "    FROM pg_indexes\n",
    "    WHERE indexname = '{index_name}';\n",
    "    \"\"\"\n",
    "\n",
    "    try:\n",
    "        cur = conn.cursor()\n",
    "        cur.execute(index_details_query)\n",
    "        index_details = cur.fetchone()\n",
    "        if index_details:\n",
    "            print(f\"Details of index '{index_name}':\")\n",
    "            print(f\"Index Name: {index_details[0]}\")\n",
    "            print(f\"Index Definition: {index_details[1]}\")\n",
    "        else:\n",
    "            print(f\"No details found for index '{index_name}'.\")\n",
    "    except:\n",
    "        print(\"Error when checking indexing details!\")\n",
    "        conn.rollback()\n",
    "    finally:\n",
    "        cur.close()\n",
    "\n",
    "# Verify details of the created index\n",
    "get_index_details('test_embeddings_embedding_idx')"
   ]
  },
  {
   "cell_type": "markdown",
   "id": "0e161e0e-7bd6-4882-ade8-3a7038528dcf",
   "metadata": {
    "tags": []
   },
   "source": [
    "Retrieval Step."
   ]
  },
  {
   "cell_type": "code",
   "execution_count": 141,
   "id": "c51df0af-98a1-4d56-ad14-6334e79ccac5",
   "metadata": {
    "tags": []
   },
   "outputs": [
    {
     "name": "stdout",
     "output_type": "stream",
     "text": [
      "\n",
      "Document 1:\n",
      "https://vancouver.calendar.ubc.ca/faculties-colleges-and-schools/faculty-science/bachelor-science/microbiology-and-immunology#5622\n",
      "Students requiring PHYS 100 may delay other 100-level PHYS courses until second year. ): 3\n",
      "  - Communication Requirement ( A total of 6 credits of coursework is required to meet the Communication Requirement. For a full list of acceptable courses see Communication Requirement. ): 3\n",
      "  - DSCI 100: 3\n",
      "  - Electives ( Elective credits together with required courses must fulfill the Faculty of Science’s:  \n",
      "a) Foundational Requirement;  \n",
      "b) Laboratory Science Requirement;  \n",
      "c) Science Breadth Requirement;  \n",
      "d) Science and Arts Requirements;  \n",
      "e) Upper-level Requirement;  \n",
      "f) General Degree Requirements. In addition to meeting the minimum Upper-level Requirement (footnote 6), students must select an additional 12 credits of upper-level courses.\n",
      "\n",
      "Document 2:\n",
      "https://vancouver.calendar.ubc.ca/faculties-colleges-and-schools/faculty-science/bachelor-science/physics#5857\n",
      "Credit will only be given for one of PHYS 102, 108 or 118. Science One satisfies the entrance requirement for all Physics and Astronomy specializations. \n",
      "\n",
      " Non-science students without Physics 11 may take PHYS 100 in a later year.\n",
      "\n",
      "\n",
      "Document 3:\n",
      "https://science.ubc.ca/students/faculty-requirements\n",
      "\n",
      "\n",
      " \n",
      "\n",
      "At least 72 credits must be in Science courses. 12 credits of Arts courses are required, separate from any English courses taken for the Communication Requirement. Students can take courses in the humanities, social sciences, and languages to fulfill the Science and Arts Requirement.\n",
      "\n",
      "\n",
      "Document 4:\n",
      "https://vancouver.calendar.ubc.ca/faculties-colleges-and-schools/faculty-science/bachelor-science/computer-science#5320\n",
      "Students who took PHYS 101 or 131 may enter the specialization but will need to take PHYS 106, 107, 117, or 170 before the required PHYS 216. ): 3\n",
      "  - PHYS 108 (or 118) ( Students who do not have B.C. High School Physics 12 (or its equivalent) must take PHYS 100 prior to other PHYS courses. Students who took PHYS 101 or 131 may enter the specialization but will need to take PHYS 106, 107, 117, or 170 before the required PHYS 216. ): 3\n",
      "  - PHYS 119 ( Students who do not have B.C. High School Physics 12 (or its equivalent) must take PHYS 100 prior to other PHYS courses. Students who took PHYS 101 or 131 may enter the specialization but will need to take PHYS 106, 107, 117, or 170 before the required PHYS 216. ): 1\n",
      "  - Electives ( The number of electives in each year is chosen to balance the total number of credits (i.e., make the yearly total close to 33).\n",
      "\n",
      "Document 5:\n",
      "https://vancouver.calendar.ubc.ca/faculties-colleges-and-schools/faculty-science/bachelor-science/science-and-arts-requirements#18441\n",
      "\n",
      "\n",
      " \n",
      "\n",
      "At least 12 credits must be in courses offered by the Faculty of Arts, excluding GEOS (or GEOB) courses and PSYC courses with science credit (see Science Requirement). Arts credits taken to fulfill the Communication Requirement may not be counted towards the Arts Requirement.\n",
      "\n",
      "ASIC 200 and ASIC 220, which are jointly offered by Science and Arts, will be applied as Arts Credit for Science students.\n",
      "\n",
      "All MUSC courses in music history, music theory, ethnomusicology, or music composition, and a maximum of 8 credits from the ensemble courses in musical performance, may count as Arts credits in a B.Sc. program.\n",
      "\n"
     ]
    }
   ],
   "source": [
    "# Get most similar documents from the database\n",
    "def get_docs(query_embedding, number):\n",
    "    embedding_array = np.array(query_embedding)\n",
    "    # Register pgvector extension\n",
    "    register_vector(conn)\n",
    "    top_docs = []\n",
    "    try:\n",
    "        cur = conn.cursor()\n",
    "        # Get the top N most similar documents using the KNN <=> operator\n",
    "        cur.execute(f\"SELECT url, text FROM test_embeddings ORDER BY embedding <=> %s LIMIT {number}\", (embedding_array,))\n",
    "        results = cur.fetchall()\n",
    "        for result in results:\n",
    "            doc_dict = {\"url\": result[0], \"text\": result[1]}\n",
    "            top_docs.append(doc_dict)\n",
    "        cur.close()\n",
    "    except:\n",
    "        print(\"Error when retrieving!\")\n",
    "        conn.rollback()\n",
    "    finally:\n",
    "        cur.close()\n",
    "    return top_docs\n",
    "\n",
    "# Initialize the Bedrock Embeddings model\n",
    "embeddings = BedrockEmbeddings()\n",
    "\n",
    "text = \"Does physics 100 count for the arts requirement?\"\n",
    "docs = get_docs(embeddings.embed_query(text), 5)\n",
    "for idx, doc in enumerate(docs, 1):\n",
    "    print(f\"\\nDocument {idx}:\\n{doc['url']}\\n{doc['text']}\")"
   ]
  },
  {
   "cell_type": "markdown",
   "id": "e89e2492-f930-45af-b11e-317e36285a4e",
   "metadata": {},
   "source": [
    "Putting everything together."
   ]
  },
  {
   "cell_type": "code",
   "execution_count": 146,
   "id": "9a23a3bf-0c8f-422c-a8f9-1037c28cdfbf",
   "metadata": {
    "tags": []
   },
   "outputs": [
    {
     "name": "stdout",
     "output_type": "stream",
     "text": [
      "answer:  Hi there! Unfortunately, PHYS 100 does not count towards the Arts requirement. According to the documents, PHYS 100 is a foundational course for Physics students and is not considered an Arts course. To fulfill the Arts requirement, you'll need to take courses from the Faculty of Arts, excluding certain courses like GEOS, PSYC, and some others. If you have any more questions or need help with course planning, feel free to ask!\n",
      "\n",
      "check_docs:\n",
      "\n",
      "URL: https://vancouver.calendar.ubc.ca/faculties-colleges-and-schools/faculty-science/bachelor-science/microbiology-and-immunology#5622\n",
      "Text:\n",
      "Students requiring PHYS 100 may delay other 100-level PHYS courses until second year. ): 3\n",
      "  - Communication Requirement ( A total of 6 credits of coursework is required to meet the Communication Requirement. For a full list of acceptable courses see Communication Requirement. ): 3\n",
      "  - DSCI 100: 3\n",
      "  - Electives ( Elective credits together with required courses must fulfill the Faculty of Science’s:  \n",
      "a) Foundational Requirement;  \n",
      "b) Laboratory Science Requirement;  \n",
      "c) Science Breadth Requirement;  \n",
      "d) Science and Arts Requirements;  \n",
      "e) Upper-level Requirement;  \n",
      "f) General Degree Requirements. In addition to meeting the minimum Upper-level Requirement (footnote 6), students must select an additional 12 credits of upper-level courses.\n",
      "Relevance:  No, the document does not answer the question. The document lists course requirements and does not mention PHYS 100 being counted towards the arts requirement.\n",
      "\n",
      "\n",
      "URL: https://vancouver.calendar.ubc.ca/faculties-colleges-and-schools/faculty-science/bachelor-science/physics#5857\n",
      "Text:\n",
      "Credit will only be given for one of PHYS 102, 108 or 118. Science One satisfies the entrance requirement for all Physics and Astronomy specializations. \n",
      "\n",
      " Non-science students without Physics 11 may take PHYS 100 in a later year.\n",
      "\n",
      "Relevance:  No, physics 100 does not count for the arts requirement. The document explicitly states that it is a science course and does not mention anything about it fulfilling an arts requirement.\n",
      "\n",
      "\n",
      "URL: https://science.ubc.ca/students/faculty-requirements\n",
      "Text:\n",
      "\n",
      "\n",
      " \n",
      "\n",
      "At least 72 credits must be in Science courses. 12 credits of Arts courses are required, separate from any English courses taken for the Communication Requirement. Students can take courses in the humanities, social sciences, and languages to fulfill the Science and Arts Requirement.\n",
      "\n",
      "Relevance:  No, physics 100 does not count for the arts requirement. The document specifies that the arts requirement is fulfilled through courses in the humanities, social sciences, and languages, and physics is a science course.\n",
      "\n",
      "\n",
      "URL: https://vancouver.calendar.ubc.ca/faculties-colleges-and-schools/faculty-science/bachelor-science/computer-science#5320\n",
      "Text:\n",
      "Students who took PHYS 101 or 131 may enter the specialization but will need to take PHYS 106, 107, 117, or 170 before the required PHYS 216. ): 3\n",
      "  - PHYS 108 (or 118) ( Students who do not have B.C. High School Physics 12 (or its equivalent) must take PHYS 100 prior to other PHYS courses. Students who took PHYS 101 or 131 may enter the specialization but will need to take PHYS 106, 107, 117, or 170 before the required PHYS 216. ): 3\n",
      "  - PHYS 119 ( Students who do not have B.C. High School Physics 12 (or its equivalent) must take PHYS 100 prior to other PHYS courses. Students who took PHYS 101 or 131 may enter the specialization but will need to take PHYS 106, 107, 117, or 170 before the required PHYS 216. ): 1\n",
      "  - Electives ( The number of electives in each year is chosen to balance the total number of credits (i.e., make the yearly total close to 33).\n",
      "Relevance:  No, the document does not indicate that physics 100 counts for the arts requirement. The document only discusses physics courses and their prerequisites, but does not mention the arts requirement.\n",
      "\n",
      "\n",
      "URL: https://vancouver.calendar.ubc.ca/faculties-colleges-and-schools/faculty-science/bachelor-science/science-and-arts-requirements#18441\n",
      "Text:\n",
      "\n",
      "\n",
      " \n",
      "\n",
      "At least 12 credits must be in courses offered by the Faculty of Arts, excluding GEOS (or GEOB) courses and PSYC courses with science credit (see Science Requirement). Arts credits taken to fulfill the Communication Requirement may not be counted towards the Arts Requirement.\n",
      "\n",
      "ASIC 200 and ASIC 220, which are jointly offered by Science and Arts, will be applied as Arts Credit for Science students.\n",
      "\n",
      "All MUSC courses in music history, music theory, ethnomusicology, or music composition, and a maximum of 8 credits from the ensemble courses in musical performance, may count as Arts credits in a B.Sc. program.\n",
      "\n",
      "Relevance:  No, physics 100 does not count for the arts requirement. The document explicitly states that courses with science credit, such as physics, do not count towards the Arts Requirement.\n",
      "\n",
      "answer_time: 2.257420301437378\n",
      "\n",
      "total_time: 5.52080225944519\n",
      "\n"
     ]
    }
   ],
   "source": [
    "# Defining Constants\n",
    "LLAMA_3_8B = \"meta.llama3-8b-instruct-v1:0\"\n",
    "LLAMA_3_70B = \"meta.llama3-70b-instruct-v1:0\"\n",
    "MISTRAL_7B = \"mistral.mistral-7b-instruct-v0:2\"\n",
    "MISTRAL_LARGE = \"mistral.mistral-large-2402-v1:0\"\n",
    "\n",
    "# Format all texts in the doc as one string when we pass prompt to LLM\n",
    "def format_docs(docs):\n",
    "    formatted_docs = \"\\n\".join([f\"Document {idx}:\\n{doc['text']}\" for idx, doc in enumerate(docs, 1)])\n",
    "    return formatted_docs\n",
    "\n",
    "# Get most similar documents from the database\n",
    "def get_docs(query_embedding, number):\n",
    "    embedding_array = np.array(query_embedding)\n",
    "    # Register pgvector extension\n",
    "    register_vector(conn)\n",
    "    top_docs = []\n",
    "    try:\n",
    "        cur = conn.cursor()\n",
    "        # Get the top N most similar documents using the KNN <=> operator\n",
    "        cur.execute(f\"SELECT url, text FROM test_embeddings ORDER BY embedding <=> %s LIMIT {number}\", (embedding_array,))\n",
    "        results = cur.fetchall()\n",
    "        # Each item in list will be a dictionary with key values 'url' and 'text'\n",
    "        for result in results:\n",
    "            doc_dict = {\"url\": result[0], \"text\": result[1]}\n",
    "            top_docs.append(doc_dict)\n",
    "        cur.close()\n",
    "    except:\n",
    "        print(\"Error when retrieving!\")\n",
    "        conn.rollback()\n",
    "    finally:\n",
    "        cur.close()\n",
    "    return top_docs\n",
    "\n",
    "def check_if_documents_relates(docs, user_prompt, llm):\n",
    "\n",
    "    system_prompt = \"You are tasked with determining if the document helps answer the question. Provide a yes or no answer with a short explaination why. Avoid any unrelated information or questions.\"\n",
    "\n",
    "    doc_relates = []\n",
    "    for doc in docs:\n",
    "        if llm.model_id == LLAMA_3_8B or llm.model_id == LLAMA_3_70B:\n",
    "            prompt = f\"\"\"\n",
    "                <|begin_of_text|>\n",
    "                <|start_header_id|>system<|end_header_id|>\n",
    "                {system_prompt}\n",
    "                <|eot_id|>\n",
    "                <|start_header_id|>question<|end_header_id|>\n",
    "                {user_prompt}\n",
    "                <|eot_id|>\n",
    "                <|start_header_id|>document<|end_header_id|>\n",
    "                {doc['text']}\n",
    "                <|eot_id|>\n",
    "                <|start_header_id|>assistant<|end_header_id|>\n",
    "                \"\"\"\n",
    "        else:\n",
    "            prompt = f\"\"\"Here is a queston that a user asked: {user_prompt}.\n",
    "                Here is the text from a document: {doc['text']}.\n",
    "                {system_prompt}\n",
    "                \"\"\"\n",
    "        response = llm.invoke(prompt)\n",
    "        doc_relates_dict = {\"url\": doc['url'], \"text\": doc['text'], \"relate\": response}\n",
    "        doc_relates.append(doc_relates_dict)\n",
    "\n",
    "    return doc_relates\n",
    "\n",
    "def answer_prompt(user_prompt, number_of_docs):\n",
    "\n",
    "    # Record the start times\n",
    "    total_start_time = time.time()\n",
    "    answer_start_time = time.time()\n",
    "\n",
    "    # Initialize the Bedrock Embeddings model\n",
    "    embeddings = BedrockEmbeddings()\n",
    "\n",
    "    docs = get_docs(embeddings.embed_query(user_prompt), number_of_docs)\n",
    "\n",
    "    documents = format_docs(docs)\n",
    "\n",
    "    # Get the LLM we want to invoke\n",
    "    llm = BedrockLLM(\n",
    "                        model_id=LLAMA_3_8B\n",
    "                    )\n",
    "\n",
    "    system_prompt = \"You are a helpful UBC student advising assistant who answers with kindness while being concise. Only generate one human readable answer\"\n",
    "\n",
    "    if llm.model_id == LLAMA_3_8B or llm.model_id == LLAMA_3_70B:\n",
    "        prompt = f\"\"\"\n",
    "            <|begin_of_text|>\n",
    "            <|start_header_id|>system<|end_header_id|>\n",
    "            {system_prompt}\n",
    "            <|eot_id|>\n",
    "            <|start_header_id|>user<|end_header_id|>\n",
    "            {user_prompt}\n",
    "            <|eot_id|>\n",
    "            <|start_header_id|>documents<|end_header_id|>\n",
    "            {documents}\n",
    "            <|eot_id|>\n",
    "            <|start_header_id|>assistant<|end_header_id|>\n",
    "            \"\"\"\n",
    "    else:\n",
    "        prompt = f\"\"\"{system_prompt}.\n",
    "            Here is the question: {user_prompt}.\n",
    "            Here are the source documents: {documents}\n",
    "            \"\"\"\n",
    "\n",
    "    answer = llm.invoke(prompt)\n",
    "\n",
    "    # Record the end time and find duration of answer only\n",
    "    answer_end_time = time.time()\n",
    "    answer_duration = answer_end_time - answer_start_time\n",
    "\n",
    "    check_docs = check_if_documents_relates(docs, user_prompt, llm)\n",
    "\n",
    "    # Record the end time and find duration of the total time of checking over each document\n",
    "    total_end_time = time.time()\n",
    "    total_duration = total_end_time - total_start_time\n",
    "\n",
    "    return {\"answer\": answer, \"check_docs\": check_docs, \"answer_time\": answer_duration, \"total_time\": total_duration}\n",
    "\n",
    "# Neatly prints dictionary returned by answer_prompt\n",
    "def neat_print(response):\n",
    "    print(f\"answer: {response['answer']}\\n\")\n",
    "    print(\"check_docs:\")\n",
    "    for doc in response['check_docs']:\n",
    "        print(f\"\\nURL: {doc['url']}\\nText:\\n{doc['text']}\\nRelevance: {doc['relate']}\\n\")\n",
    "\n",
    "    print(f\"answer_time: {response['answer_time']}\\n\")\n",
    "    print(f\"total_time: {response['total_time']}\\n\")\n",
    "\n",
    "response = answer_prompt(\"Does physics 100 count for the arts requirement?\", 5)\n",
    "\n",
    "neat_print(response)"
   ]
  },
  {
   "cell_type": "code",
   "execution_count": 129,
   "id": "a7a84c1c-9094-4054-8b0f-9508d4a1d717",
   "metadata": {
    "tags": []
   },
   "outputs": [
    {
     "name": "stdout",
     "output_type": "stream",
     "text": [
      "answer:  Hi there! I'm happy to help you with your question. According to the documents I've found, it's possible to add a minor in fourth year, but it's essential to plan carefully and ensure that the courses fit into your program timetable. You should also be aware of the prerequisites for the upper-level courses and the limited space in some courses. Additionally, you may need to complete an additional term or terms beyond the four years required for your degree. I recommend consulting with a departmental advisor in Science and a senior advisor in your home faculty to discuss your options and ensure a smooth transition.\n",
      "\n",
      "check_docs:\n",
      "\n",
      "URL: https://vancouver.calendar.ubc.ca/faculties-colleges-and-schools/faculty-forestry/buf-bachelor-urban-forestry/introduction\n",
      "Text:\n",
      "Students who choose not to select a minor will make up the 18 credits that comprise a minor through a selection of courses from both minor pools. Students apply to the program director for entry into one of the two minors upon completion of Second Year. Acceptance may be limited by demand, in which case acceptance will be based on academic standing at the completion of Second Year.\n",
      "\n",
      "Relevance:  No. The document does not provide information on adding a minor in fourth year, it only discusses the process of selecting a minor in Second Year and the potential for acceptance being limited by demand.\n",
      "\n",
      "\n",
      "URL: https://vancouver.calendar.ubc.ca/faculties-colleges-and-schools/faculty-land-and-food-systems/dual-degree-and-minor-options#25418\n",
      "Text:\n",
      "Where space in courses required for a Minor is limited, a sessional average substantially higher than the minimum for Good Academic Standing may be required to enable registration in such courses. Students who wish to pursue a Minor should be aware of the prerequisites of many of the upper-level courses. \n",
      "\n",
      " Students might encounter difficulty fitting the courses for the Minor into their program timetable; careful planning is essential, and completion of the Minor may require an additional period of study beyond four years.\n",
      "\n",
      "Relevance:  No, the document does not help answer the question. The document discusses the requirements and potential challenges of pursuing a minor, but it does not provide information on whether it is possible to add a minor in fourth year.\n",
      "\n",
      "\n",
      "URL: https://vancouver.calendar.ubc.ca/faculties-colleges-and-schools/faculty-science/bachelor-science/minor-options#4953\n",
      "Text:\n",
      "Approval will be withheld if deemed to overlap excessively with the course of study for the major or honours. \n",
      "\n",
      "Students registered in other degree programs may, with approval of a departmental advisor in Science and a senior advisor in their home faculty, undertake a minor in science specialization in conjunction with their degree program. Students are strongly encouraged to consult with advisors in both faculties before taking the necessary courses. \n",
      "\n",
      "Upon completion of a minor specialization, the notation, \"Minor in [subject]\" will be denoted on the student's transcript. Space in many Science courses is limited. Admission to a science minor does not guarantee access to courses agreed upon for the minor. \n",
      "\n",
      "A student completing a minor in science in conjunction with a major or honours specialization may use courses to fill program requirements in both areas of specialization (see Double Counting).\n",
      "Relevance:  No. The document does not explicitly state that a minor can be added in fourth year, but rather mentions that students can undertake a minor in science specialization with approval from a departmental advisor in Science and a senior advisor in their home faculty. It does not provide information on the timing of when this can be done.\n",
      "\n",
      "\n",
      "URL: https://vancouver.calendar.ubc.ca/faculties-colleges-and-schools/faculty-applied-science/bachelor-applied-science/minor-science\n",
      "Text:\n",
      "Students might encounter difficulty fitting the courses for the Minor into their program timetable; careful planning is essential, and completion of the Minor program might require an additional term or terms beyond that required to complete the B.A.Sc. degree alone. \n",
      "\n",
      " No more than six upper-level credits that count toward the restricted elective requirements for the B.A.Sc. degree may be double-counted to fulfill requirements for the Science minor. \n",
      "\n",
      "Note: Students who wish to pursue a Minor in Science should be aware of the pre-requisites of many of the upper-level science courses. Space in many courses is limited. Admission to a science minor does not guarantee access to courses agreed upon for the minor.\n",
      "\n",
      "Relevance:  No, the document does not help answer the question. The document discusses the requirements and considerations for pursuing a Minor in Science, but it does not address adding a minor in fourth year.\n",
      "\n",
      "\n",
      "URL: https://vancouver.calendar.ubc.ca/faculties-colleges-and-schools/faculty-arts/bachelor-arts/degree-program-options#16812\n",
      "Text:\n",
      " \n",
      "\n",
      " \n",
      "\n",
      "Students completing a single specialization (Major, Combined Major, or Honours) may also choose to complete a Minor. Completion of a Minor requires between 18 and 36 credits in addition to the requirements for the primary specialization. The following requirements must also be met: \n",
      "\n",
      "  - a minimum of 18 credits for the Minor must be in courses numbered 300 or higher \n",
      "\n",
      "[5] \n",
      "\n",
      "; and\n",
      "  - a minimum of 24 credits must be outside both specializations. \n",
      "\n",
      "[1] \n",
      "\n",
      "[1] \n",
      "\n",
      "All courses normally accepted or designated as applicable towards a specialization in a field of study, including cross-listed courses, are deemed to be within that field of study. This remains true even when the course credit is not actually applied to that specialization (i.e. is taken as elective credit).  \n",
      "\n",
      " [2] \n",
      "\n",
      "A maximum of 9 credits from courses numbered 300 and higher may be double-counted between the two Majors. Regardless of double-counting, students must complete 60 upper-level credits for the degree.\n",
      "Relevance:  Yes. The document states that students completing a single specialization (Major, Combined Major, or Honours) may also choose to complete a Minor, and provides the requirements for doing so.\n",
      "\n",
      "answer_time: 2.289646863937378\n",
      "\n",
      "total_time: 6.5123631954193115\n",
      "\n"
     ]
    }
   ],
   "source": [
    "response = answer_prompt(\"Can I add a minor in fourth year?\", 5)\n",
    "\n",
    "neat_print(response)"
   ]
  },
  {
   "cell_type": "code",
   "execution_count": 130,
   "id": "2a47f164-bb7b-4be2-bad1-5c5b8dc4796d",
   "metadata": {
    "tags": []
   },
   "outputs": [
    {
     "name": "stdout",
     "output_type": "stream",
     "text": [
      "answer:  The Faculty of Science at UBC offers a wide range of specializations, including:\n",
      "\n",
      "* Astronomy\n",
      "* Biochemistry\n",
      "* Biological Sciences\n",
      "* Botany\n",
      "* Chemistry\n",
      "* Computer Science\n",
      "* Earth and Ocean Sciences\n",
      "* Environmental Science\n",
      "* Geology\n",
      "* Kinesiology\n",
      "* Mathematics\n",
      "* Microbiology\n",
      "* Physics\n",
      "* Psychology\n",
      "* Statistics\n",
      "\n",
      "Please note that this is not an exhaustive list, and new specializations may be added or updated. I recommend visiting the UBC Academic Calendar or consulting with a program advisor to get the most up-to-date information on the specializations available.\n",
      "\n",
      "check_docs:\n",
      "\n",
      "URL: https://science.ubc.ca/students/first-year-courses\n",
      "Text:\n",
      "\n",
      "\n",
      " \n",
      "\n",
      "UBC Science offers numerous areas of specializations for students. Visit the UBC Academic Calendar and scroll down to check out the details of your interested specialization(s). Each specialization Calendar entry will show you an overview of your degree, including the sample timetable you could have at each class standing.\n",
      "\n",
      "Relevance:  No. The document does not provide a comprehensive list of specializations in the Faculty of Science. It only mentions that UBC Science offers numerous areas of specializations and directs the reader to the UBC Academic Calendar for more information.\n",
      "\n",
      "\n",
      "URL: https://science.ubc.ca/students/first-year-courses\n",
      "Text:\n",
      "\n",
      "\n",
      " \n",
      "\n",
      "A specialization is also known as a major. By the end of first year, every UBC Science undergraduate student must choose a specific area of study. Throughout the rest of your time at UBC, you’ll complete courses within that area of study. As a first-year student planning your timetable, consider areas of interest (potential specializations) and build your timetable based on pre-requisites needed for your intended specialization. Be sure to read the related and important information on the UBC Academic Calendar. We’ve included a link on the right.\n",
      "\n",
      "Relevance:  No. The document does not provide a comprehensive list of all specializations in the Faculty of Science. It only mentions that a specialization is also known as a major and that students must choose one by the end of first year.\n",
      "\n",
      "\n",
      "URL: https://science.ubc.ca/students/degree-types\n",
      "Text:\n",
      "\n",
      "\n",
      " \n",
      "\n",
      "There are many types of degrees you can pursue in UBC Science.\n",
      "\n",
      "Relevance:  No\n",
      "\n",
      "The document does not provide a comprehensive list of specializations in the Faculty of Science. It only mentions that there are many types of degrees you can pursue in UBC Science, but it does not specify what those specializations are.\n",
      "\n",
      "\n",
      "URL: https://science.ubc.ca/students/transfer-courses\n",
      "Text:\n",
      "\n",
      "\n",
      " \n",
      "\n",
      "The requirements of a specialization determine the courses you need to focus on during registration. Now is the time to explore UBC Science's program specializations -- get a feel for requirements, explore UBC calendar entries, bookmark contacts for departmental program advisors, and discover student clubs for each program specialization.Explore UBC Science's Program SpecializationsReview the UBC Academic Calendar Requirements For All Science Specializations\n",
      "\n",
      "Relevance:  No\n",
      "                 The document does not provide a comprehensive list of all specializations in the Faculty of Science. It only mentions that there are program specializations and provides a link to the UBC Academic Calendar, but does not specify what those specializations are.\n",
      "\n",
      "\n",
      "URL: https://science.ubc.ca/students/specialization-faq\n",
      "Text:\n",
      "\n",
      "\n",
      " \n",
      "\n",
      "The Faculty of Science provides historical BSc specialization admission information to help students with their BSc Specialization Admission application. Exact future admission averages cannot be predicted with this information since they vary due to shifts in students’ interests, changes in the number of available spaces in a specialization, and random factors. You can review this information here.\n",
      "\n",
      "Relevance:  No\n",
      "                 The document does not provide a comprehensive list of specializations in the Faculty of Science, but rather historical BSc specialization admission information.\n",
      "\n",
      "answer_time: 2.2910237312316895\n",
      "\n",
      "total_time: 6.29991602897644\n",
      "\n"
     ]
    }
   ],
   "source": [
    "response = answer_prompt(\"What are all the specializations in the Faculty of Science?\", 5)\n",
    "\n",
    "neat_print(response)"
   ]
  },
  {
   "cell_type": "code",
   "execution_count": null,
   "id": "dcbe7058-e9a6-4388-b11c-cf6edfa5ca9f",
   "metadata": {},
   "outputs": [],
   "source": []
  }
 ],
 "metadata": {
  "kernelspec": {
   "display_name": "conda_python3",
   "language": "python",
   "name": "conda_python3"
  },
  "language_info": {
   "codemirror_mode": {
    "name": "ipython",
    "version": 3
   },
   "file_extension": ".py",
   "mimetype": "text/x-python",
   "name": "python",
   "nbconvert_exporter": "python",
   "pygments_lexer": "ipython3",
   "version": "3.10.14"
  }
 },
 "nbformat": 4,
 "nbformat_minor": 5
}
